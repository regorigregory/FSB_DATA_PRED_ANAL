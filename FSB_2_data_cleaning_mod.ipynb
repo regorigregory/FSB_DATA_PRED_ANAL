{
  "nbformat": 4,
  "nbformat_minor": 0,
  "metadata": {
    "colab": {
      "name": "FSB-2-data_cleaning_mod.ipynb",
      "provenance": [],
      "collapsed_sections": [
        "K6c_CqngMneK",
        "i2UUi5EKMFm-",
        "WYd7cbBjNrGN",
        "kKXwMGMzPhGQ",
        "ZszmMFcANd2L",
        "zSmMO9UsOxuH",
        "5mj7JPOZnszG",
        "eMIQ_LSxTJKs",
        "ZL1yGaVzn4rI",
        "kRk1QT2ssIT9",
        "U9tyWSvssjqt",
        "Mtme2k3r2LlV"
      ],
      "toc_visible": true
    },
    "kernelspec": {
      "name": "python3",
      "display_name": "Python 3"
    },
    "widgets": {
      "application/vnd.jupyter.widget-state+json": {
        "fdd1337ccea4465fa93d0a1945a251d9": {
          "model_module": "@jupyter-widgets/controls",
          "model_name": "VBoxModel",
          "state": {
            "_view_name": "VBoxView",
            "_dom_classes": [],
            "_model_name": "VBoxModel",
            "_view_module": "@jupyter-widgets/controls",
            "_model_module_version": "1.5.0",
            "_view_count": null,
            "_view_module_version": "1.5.0",
            "box_style": "",
            "layout": "IPY_MODEL_05ae4cfdc73e4d978d7d370fcc0adcd1",
            "_model_module": "@jupyter-widgets/controls",
            "children": [
              "IPY_MODEL_4aaa6cc02b614467856828299451c801",
              "IPY_MODEL_195020b9f85f44408f663000d4e562cb",
              "IPY_MODEL_0aa5a2d4e9f442b19161b4ca63a47937",
              "IPY_MODEL_777de7b2af0f4886872d26ea273d3cb3"
            ]
          }
        },
        "05ae4cfdc73e4d978d7d370fcc0adcd1": {
          "model_module": "@jupyter-widgets/base",
          "model_name": "LayoutModel",
          "state": {
            "_view_name": "LayoutView",
            "grid_template_rows": null,
            "right": null,
            "justify_content": null,
            "_view_module": "@jupyter-widgets/base",
            "overflow": null,
            "_model_module_version": "1.2.0",
            "_view_count": null,
            "flex_flow": null,
            "width": null,
            "min_width": null,
            "border": null,
            "align_items": null,
            "bottom": null,
            "_model_module": "@jupyter-widgets/base",
            "top": null,
            "grid_column": null,
            "overflow_y": null,
            "overflow_x": null,
            "grid_auto_flow": null,
            "grid_area": null,
            "grid_template_columns": null,
            "flex": null,
            "_model_name": "LayoutModel",
            "justify_items": null,
            "grid_row": null,
            "max_height": null,
            "align_content": null,
            "visibility": null,
            "align_self": null,
            "height": null,
            "min_height": null,
            "padding": null,
            "grid_auto_rows": null,
            "grid_gap": null,
            "max_width": null,
            "order": null,
            "_view_module_version": "1.2.0",
            "grid_template_areas": null,
            "object_position": null,
            "object_fit": null,
            "grid_auto_columns": null,
            "margin": null,
            "display": null,
            "left": null
          }
        },
        "4aaa6cc02b614467856828299451c801": {
          "model_module": "@jupyter-widgets/controls",
          "model_name": "IntRangeSliderModel",
          "state": {
            "_view_name": "IntRangeSliderView",
            "style": "IPY_MODEL_c242776b8cb54fb5bf81f3fc0ef0d96c",
            "_dom_classes": [],
            "description": "Year: ",
            "step": 1,
            "_model_name": "IntRangeSliderModel",
            "orientation": "horizontal",
            "max": 2021,
            "_view_module": "@jupyter-widgets/controls",
            "_model_module_version": "1.5.0",
            "value": [
              2017,
              2021
            ],
            "_view_count": null,
            "disabled": false,
            "_view_module_version": "1.5.0",
            "min": 2017,
            "continuous_update": true,
            "readout_format": "d",
            "description_tooltip": null,
            "readout": true,
            "_model_module": "@jupyter-widgets/controls",
            "layout": "IPY_MODEL_0afe4e34b2ee48b9bfc5defe92498f64"
          }
        },
        "195020b9f85f44408f663000d4e562cb": {
          "model_module": "@jupyter-widgets/controls",
          "model_name": "DropdownModel",
          "state": {
            "_options_labels": [
              ".*",
              "False Alarm",
              "Fire",
              "Special Service"
            ],
            "_view_name": "DropdownView",
            "style": "IPY_MODEL_2c889adeec09434b973ee34224cc0794",
            "_dom_classes": [],
            "description": "IncidentGroup: ",
            "_model_name": "DropdownModel",
            "index": 0,
            "_view_module": "@jupyter-widgets/controls",
            "_model_module_version": "1.5.0",
            "_view_count": null,
            "disabled": false,
            "_view_module_version": "1.5.0",
            "description_tooltip": null,
            "_model_module": "@jupyter-widgets/controls",
            "layout": "IPY_MODEL_a22e557745b34b9c866d9a362c88f84f"
          }
        },
        "0aa5a2d4e9f442b19161b4ca63a47937": {
          "model_module": "@jupyter-widgets/controls",
          "model_name": "DropdownModel",
          "state": {
            "_options_labels": [
              ".*",
              "Barking And dagenham",
              "Barnet",
              "Bexley",
              "Brent",
              "Bromley",
              "Camden",
              "City Of london",
              "Croydon",
              "Ealing",
              "Enfield",
              "Greenwich",
              "Hackney",
              "Hammersmith And fulham",
              "Haringey",
              "Harrow",
              "Havering",
              "Hillingdon",
              "Hounslow",
              "Islington",
              "Kensington And chelsea",
              "Kingston Upon thames",
              "Lambeth",
              "Lewisham",
              "Merton",
              "Newham",
              "Redbridge",
              "Richmond Upon thames",
              "Southwark",
              "Sutton",
              "Tower Hamlets",
              "Waltham Forest",
              "Wandsworth",
              "Westminster"
            ],
            "_view_name": "DropdownView",
            "style": "IPY_MODEL_2f51c9652dda471fbc44a35398b03d02",
            "_dom_classes": [],
            "description": "Borough (ProperCase): ",
            "_model_name": "DropdownModel",
            "index": 0,
            "_view_module": "@jupyter-widgets/controls",
            "_model_module_version": "1.5.0",
            "_view_count": null,
            "disabled": false,
            "_view_module_version": "1.5.0",
            "description_tooltip": null,
            "_model_module": "@jupyter-widgets/controls",
            "layout": "IPY_MODEL_f63aa583c8ce41028c1cf3347974e831"
          }
        },
        "777de7b2af0f4886872d26ea273d3cb3": {
          "model_module": "@jupyter-widgets/controls",
          "model_name": "DropdownModel",
          "state": {
            "_options_labels": [
              ".*"
            ],
            "_view_name": "DropdownView",
            "style": "IPY_MODEL_21f587e100e349cc9f79b1263aec29ee",
            "_dom_classes": [],
            "description": "Ward: ",
            "_model_name": "DropdownModel",
            "index": 0,
            "_view_module": "@jupyter-widgets/controls",
            "_model_module_version": "1.5.0",
            "_view_count": null,
            "disabled": false,
            "_view_module_version": "1.5.0",
            "description_tooltip": null,
            "_model_module": "@jupyter-widgets/controls",
            "layout": "IPY_MODEL_954373f5b4694267b76d5111b6f3246f"
          }
        },
        "c242776b8cb54fb5bf81f3fc0ef0d96c": {
          "model_module": "@jupyter-widgets/controls",
          "model_name": "SliderStyleModel",
          "state": {
            "_view_name": "StyleView",
            "handle_color": null,
            "_model_name": "SliderStyleModel",
            "description_width": "initial",
            "_view_module": "@jupyter-widgets/base",
            "_model_module_version": "1.5.0",
            "_view_count": null,
            "_view_module_version": "1.2.0",
            "_model_module": "@jupyter-widgets/controls"
          }
        },
        "0afe4e34b2ee48b9bfc5defe92498f64": {
          "model_module": "@jupyter-widgets/base",
          "model_name": "LayoutModel",
          "state": {
            "_view_name": "LayoutView",
            "grid_template_rows": null,
            "right": null,
            "justify_content": null,
            "_view_module": "@jupyter-widgets/base",
            "overflow": null,
            "_model_module_version": "1.2.0",
            "_view_count": null,
            "flex_flow": null,
            "width": null,
            "min_width": null,
            "border": null,
            "align_items": null,
            "bottom": null,
            "_model_module": "@jupyter-widgets/base",
            "top": null,
            "grid_column": null,
            "overflow_y": null,
            "overflow_x": null,
            "grid_auto_flow": null,
            "grid_area": null,
            "grid_template_columns": null,
            "flex": null,
            "_model_name": "LayoutModel",
            "justify_items": null,
            "grid_row": null,
            "max_height": null,
            "align_content": null,
            "visibility": null,
            "align_self": null,
            "height": null,
            "min_height": null,
            "padding": null,
            "grid_auto_rows": null,
            "grid_gap": null,
            "max_width": null,
            "order": null,
            "_view_module_version": "1.2.0",
            "grid_template_areas": null,
            "object_position": null,
            "object_fit": null,
            "grid_auto_columns": null,
            "margin": null,
            "display": null,
            "left": null
          }
        },
        "2c889adeec09434b973ee34224cc0794": {
          "model_module": "@jupyter-widgets/controls",
          "model_name": "DescriptionStyleModel",
          "state": {
            "_view_name": "StyleView",
            "_model_name": "DescriptionStyleModel",
            "description_width": "initial",
            "_view_module": "@jupyter-widgets/base",
            "_model_module_version": "1.5.0",
            "_view_count": null,
            "_view_module_version": "1.2.0",
            "_model_module": "@jupyter-widgets/controls"
          }
        },
        "a22e557745b34b9c866d9a362c88f84f": {
          "model_module": "@jupyter-widgets/base",
          "model_name": "LayoutModel",
          "state": {
            "_view_name": "LayoutView",
            "grid_template_rows": null,
            "right": null,
            "justify_content": null,
            "_view_module": "@jupyter-widgets/base",
            "overflow": null,
            "_model_module_version": "1.2.0",
            "_view_count": null,
            "flex_flow": null,
            "width": null,
            "min_width": null,
            "border": null,
            "align_items": null,
            "bottom": null,
            "_model_module": "@jupyter-widgets/base",
            "top": null,
            "grid_column": null,
            "overflow_y": null,
            "overflow_x": null,
            "grid_auto_flow": null,
            "grid_area": null,
            "grid_template_columns": null,
            "flex": null,
            "_model_name": "LayoutModel",
            "justify_items": null,
            "grid_row": null,
            "max_height": null,
            "align_content": null,
            "visibility": null,
            "align_self": null,
            "height": null,
            "min_height": null,
            "padding": null,
            "grid_auto_rows": null,
            "grid_gap": null,
            "max_width": null,
            "order": null,
            "_view_module_version": "1.2.0",
            "grid_template_areas": null,
            "object_position": null,
            "object_fit": null,
            "grid_auto_columns": null,
            "margin": null,
            "display": null,
            "left": null
          }
        },
        "2f51c9652dda471fbc44a35398b03d02": {
          "model_module": "@jupyter-widgets/controls",
          "model_name": "DescriptionStyleModel",
          "state": {
            "_view_name": "StyleView",
            "_model_name": "DescriptionStyleModel",
            "description_width": "initial",
            "_view_module": "@jupyter-widgets/base",
            "_model_module_version": "1.5.0",
            "_view_count": null,
            "_view_module_version": "1.2.0",
            "_model_module": "@jupyter-widgets/controls"
          }
        },
        "f63aa583c8ce41028c1cf3347974e831": {
          "model_module": "@jupyter-widgets/base",
          "model_name": "LayoutModel",
          "state": {
            "_view_name": "LayoutView",
            "grid_template_rows": null,
            "right": null,
            "justify_content": null,
            "_view_module": "@jupyter-widgets/base",
            "overflow": null,
            "_model_module_version": "1.2.0",
            "_view_count": null,
            "flex_flow": null,
            "width": null,
            "min_width": null,
            "border": null,
            "align_items": null,
            "bottom": null,
            "_model_module": "@jupyter-widgets/base",
            "top": null,
            "grid_column": null,
            "overflow_y": null,
            "overflow_x": null,
            "grid_auto_flow": null,
            "grid_area": null,
            "grid_template_columns": null,
            "flex": null,
            "_model_name": "LayoutModel",
            "justify_items": null,
            "grid_row": null,
            "max_height": null,
            "align_content": null,
            "visibility": null,
            "align_self": null,
            "height": null,
            "min_height": null,
            "padding": null,
            "grid_auto_rows": null,
            "grid_gap": null,
            "max_width": null,
            "order": null,
            "_view_module_version": "1.2.0",
            "grid_template_areas": null,
            "object_position": null,
            "object_fit": null,
            "grid_auto_columns": null,
            "margin": null,
            "display": null,
            "left": null
          }
        },
        "21f587e100e349cc9f79b1263aec29ee": {
          "model_module": "@jupyter-widgets/controls",
          "model_name": "DescriptionStyleModel",
          "state": {
            "_view_name": "StyleView",
            "_model_name": "DescriptionStyleModel",
            "description_width": "initial",
            "_view_module": "@jupyter-widgets/base",
            "_model_module_version": "1.5.0",
            "_view_count": null,
            "_view_module_version": "1.2.0",
            "_model_module": "@jupyter-widgets/controls"
          }
        },
        "954373f5b4694267b76d5111b6f3246f": {
          "model_module": "@jupyter-widgets/base",
          "model_name": "LayoutModel",
          "state": {
            "_view_name": "LayoutView",
            "grid_template_rows": null,
            "right": null,
            "justify_content": null,
            "_view_module": "@jupyter-widgets/base",
            "overflow": null,
            "_model_module_version": "1.2.0",
            "_view_count": null,
            "flex_flow": null,
            "width": null,
            "min_width": null,
            "border": null,
            "align_items": null,
            "bottom": null,
            "_model_module": "@jupyter-widgets/base",
            "top": null,
            "grid_column": null,
            "overflow_y": null,
            "overflow_x": null,
            "grid_auto_flow": null,
            "grid_area": null,
            "grid_template_columns": null,
            "flex": null,
            "_model_name": "LayoutModel",
            "justify_items": null,
            "grid_row": null,
            "max_height": null,
            "align_content": null,
            "visibility": null,
            "align_self": null,
            "height": null,
            "min_height": null,
            "padding": null,
            "grid_auto_rows": null,
            "grid_gap": null,
            "max_width": null,
            "order": null,
            "_view_module_version": "1.2.0",
            "grid_template_areas": null,
            "object_position": null,
            "object_fit": null,
            "grid_auto_columns": null,
            "margin": null,
            "display": null,
            "left": null
          }
        },
        "c994763d178545c88412599c67e1a74f": {
          "model_module": "@jupyter-widgets/controls",
          "model_name": "TextModel",
          "state": {
            "_view_name": "TextView",
            "style": "IPY_MODEL_94fdcd303e2c47449394fe41697895bb",
            "_dom_classes": [],
            "description": "Enter the file name:",
            "_model_name": "TextModel",
            "placeholder": "​",
            "_view_module": "@jupyter-widgets/controls",
            "_model_module_version": "1.5.0",
            "value": "temp.csv",
            "_view_count": null,
            "disabled": false,
            "_view_module_version": "1.5.0",
            "continuous_update": true,
            "description_tooltip": null,
            "_model_module": "@jupyter-widgets/controls",
            "layout": "IPY_MODEL_db5ca4e2ddf04b80b7db0811a93db65b"
          }
        },
        "94fdcd303e2c47449394fe41697895bb": {
          "model_module": "@jupyter-widgets/controls",
          "model_name": "DescriptionStyleModel",
          "state": {
            "_view_name": "StyleView",
            "_model_name": "DescriptionStyleModel",
            "description_width": "initial",
            "_view_module": "@jupyter-widgets/base",
            "_model_module_version": "1.5.0",
            "_view_count": null,
            "_view_module_version": "1.2.0",
            "_model_module": "@jupyter-widgets/controls"
          }
        },
        "db5ca4e2ddf04b80b7db0811a93db65b": {
          "model_module": "@jupyter-widgets/base",
          "model_name": "LayoutModel",
          "state": {
            "_view_name": "LayoutView",
            "grid_template_rows": null,
            "right": null,
            "justify_content": null,
            "_view_module": "@jupyter-widgets/base",
            "overflow": null,
            "_model_module_version": "1.2.0",
            "_view_count": null,
            "flex_flow": null,
            "width": null,
            "min_width": null,
            "border": null,
            "align_items": null,
            "bottom": null,
            "_model_module": "@jupyter-widgets/base",
            "top": null,
            "grid_column": null,
            "overflow_y": null,
            "overflow_x": null,
            "grid_auto_flow": null,
            "grid_area": null,
            "grid_template_columns": null,
            "flex": null,
            "_model_name": "LayoutModel",
            "justify_items": null,
            "grid_row": null,
            "max_height": null,
            "align_content": null,
            "visibility": null,
            "align_self": null,
            "height": null,
            "min_height": null,
            "padding": null,
            "grid_auto_rows": null,
            "grid_gap": null,
            "max_width": null,
            "order": null,
            "_view_module_version": "1.2.0",
            "grid_template_areas": null,
            "object_position": null,
            "object_fit": null,
            "grid_auto_columns": null,
            "margin": null,
            "display": null,
            "left": null
          }
        },
        "f784fe5195f94429b365c06e234bb153": {
          "model_module": "@jupyter-widgets/controls",
          "model_name": "TextModel",
          "state": {
            "_view_name": "TextView",
            "style": "IPY_MODEL_fa334ecbbec7474085a202ad8d2a1771",
            "_dom_classes": [],
            "description": "Enter the pickled file name:",
            "_model_name": "TextModel",
            "placeholder": "​",
            "_view_module": "@jupyter-widgets/controls",
            "_model_module_version": "1.5.0",
            "value": "temp.pkl",
            "_view_count": null,
            "disabled": false,
            "_view_module_version": "1.5.0",
            "continuous_update": true,
            "description_tooltip": null,
            "_model_module": "@jupyter-widgets/controls",
            "layout": "IPY_MODEL_aac391b1ccee424da8bc3868bab9ad33"
          }
        },
        "fa334ecbbec7474085a202ad8d2a1771": {
          "model_module": "@jupyter-widgets/controls",
          "model_name": "DescriptionStyleModel",
          "state": {
            "_view_name": "StyleView",
            "_model_name": "DescriptionStyleModel",
            "description_width": "initial",
            "_view_module": "@jupyter-widgets/base",
            "_model_module_version": "1.5.0",
            "_view_count": null,
            "_view_module_version": "1.2.0",
            "_model_module": "@jupyter-widgets/controls"
          }
        },
        "aac391b1ccee424da8bc3868bab9ad33": {
          "model_module": "@jupyter-widgets/base",
          "model_name": "LayoutModel",
          "state": {
            "_view_name": "LayoutView",
            "grid_template_rows": null,
            "right": null,
            "justify_content": null,
            "_view_module": "@jupyter-widgets/base",
            "overflow": null,
            "_model_module_version": "1.2.0",
            "_view_count": null,
            "flex_flow": null,
            "width": null,
            "min_width": null,
            "border": null,
            "align_items": null,
            "bottom": null,
            "_model_module": "@jupyter-widgets/base",
            "top": null,
            "grid_column": null,
            "overflow_y": null,
            "overflow_x": null,
            "grid_auto_flow": null,
            "grid_area": null,
            "grid_template_columns": null,
            "flex": null,
            "_model_name": "LayoutModel",
            "justify_items": null,
            "grid_row": null,
            "max_height": null,
            "align_content": null,
            "visibility": null,
            "align_self": null,
            "height": null,
            "min_height": null,
            "padding": null,
            "grid_auto_rows": null,
            "grid_gap": null,
            "max_width": null,
            "order": null,
            "_view_module_version": "1.2.0",
            "grid_template_areas": null,
            "object_position": null,
            "object_fit": null,
            "grid_auto_columns": null,
            "margin": null,
            "display": null,
            "left": null
          }
        }
      }
    }
  },
  "cells": [
    {
      "cell_type": "markdown",
      "metadata": {
        "id": "Psp2GEexOKLP"
      },
      "source": [
        "# FSB II. - Data cleaning\r\n",
        "## What is this"
      ]
    },
    {
      "cell_type": "markdown",
      "metadata": {
        "id": "K6c_CqngMneK"
      },
      "source": [
        "## Installs"
      ]
    },
    {
      "cell_type": "code",
      "metadata": {
        "colab": {
          "base_uri": "https://localhost:8080/"
        },
        "id": "nkuhpKOdKX12",
        "outputId": "3c7e4812-0099-44ce-a96f-f8f2a02c7cd8"
      },
      "source": [
        "! pip3 install convertbng\r\n",
        "! pip3 install python-Levenshtein"
      ],
      "execution_count": null,
      "outputs": [
        {
          "output_type": "stream",
          "text": [
            "Collecting convertbng\n",
            "\u001b[?25l  Downloading https://files.pythonhosted.org/packages/fb/6b/53f6784138d3424ea7f50c26892d5cec45456b1a25fb5d9c386ec177a8ed/convertbng-0.6.25-cp37-cp37m-manylinux1_x86_64.whl (14.0MB)\n",
            "\u001b[K     |████████████████████████████████| 14.0MB 326kB/s \n",
            "\u001b[?25hRequirement already satisfied: numpy>=1.11.0 in /usr/local/lib/python3.7/dist-packages (from convertbng) (1.19.5)\n",
            "Installing collected packages: convertbng\n",
            "Successfully installed convertbng-0.6.25\n",
            "Collecting python-Levenshtein\n",
            "\u001b[?25l  Downloading https://files.pythonhosted.org/packages/2a/dc/97f2b63ef0fa1fd78dcb7195aca577804f6b2b51e712516cc0e902a9a201/python-Levenshtein-0.12.2.tar.gz (50kB)\n",
            "\u001b[K     |████████████████████████████████| 51kB 3.3MB/s \n",
            "\u001b[?25hRequirement already satisfied: setuptools in /usr/local/lib/python3.7/dist-packages (from python-Levenshtein) (53.0.0)\n",
            "Building wheels for collected packages: python-Levenshtein\n",
            "  Building wheel for python-Levenshtein (setup.py) ... \u001b[?25l\u001b[?25hdone\n",
            "  Created wheel for python-Levenshtein: filename=python_Levenshtein-0.12.2-cp37-cp37m-linux_x86_64.whl size=149791 sha256=889190a26d3df6fe0512c774f4306beebce73625022fae383394e5f0f2eae1e6\n",
            "  Stored in directory: /root/.cache/pip/wheels/b3/26/73/4b48503bac73f01cf18e52cd250947049a7f339e940c5df8fc\n",
            "Successfully built python-Levenshtein\n",
            "Installing collected packages: python-Levenshtein\n",
            "Successfully installed python-Levenshtein-0.12.2\n"
          ],
          "name": "stdout"
        }
      ]
    },
    {
      "cell_type": "markdown",
      "metadata": {
        "id": "i2UUi5EKMFm-"
      },
      "source": [
        "## Imports"
      ]
    },
    {
      "cell_type": "code",
      "metadata": {
        "id": "4WctndHfMGAN"
      },
      "source": [
        "# built-in modules\r\n",
        "import re\r\n",
        "import io\r\n",
        "import requests\r\n",
        "import warnings\r\n",
        "import os\r\n",
        "import sys\r\n",
        "\r\n",
        "# numpy and pandas\r\n",
        "import pandas as pd\r\n",
        "import numpy as np\r\n",
        "\r\n",
        "# helper module for pandas to be able to process excel spreadsheets - xlrd is obsolete\r\n",
        "import openpyxl\r\n",
        "\r\n",
        "# matplotlib\r\n",
        "import matplotlib.pyplot as plt\r\n",
        "import matplotlib as mpl\r\n",
        "from matplotlib import rcParams\r\n",
        "\r\n",
        "# widgets\r\n",
        "from ipywidgets import widgets, HBox, VBox, Layout\r\n",
        "from IPython.display import display\r\n",
        "\r\n",
        "# plotly modules\r\n",
        "import plotly\r\n",
        "import plotly.graph_objects as go\r\n",
        "from plotly.subplots import make_subplots"
      ],
      "execution_count": null,
      "outputs": []
    },
    {
      "cell_type": "code",
      "metadata": {
        "colab": {
          "base_uri": "https://localhost:8080/"
        },
        "id": "vdkw5CrvNJM8",
        "outputId": "47b8404a-7a76-4e95-b2d8-0a49ffb25a02"
      },
      "source": [
        "liblist = sorted([e.name for e in os.scandir(r'/usr/local/lib/python'+sys.version[0:3]+'/dist-packages')])\r\n",
        "[l for l in liblist if re.search(re.compile(\".*bng.*\", re.IGNORECASE), l) is not None]"
      ],
      "execution_count": null,
      "outputs": [
        {
          "output_type": "execute_result",
          "data": {
            "text/plain": [
              "['convertbng', 'convertbng-0.6.25.dist-info']"
            ]
          },
          "metadata": {
            "tags": []
          },
          "execution_count": 3
        }
      ]
    },
    {
      "cell_type": "code",
      "metadata": {
        "colab": {
          "base_uri": "https://localhost:8080/"
        },
        "id": "Y_O8d0UUtPqq",
        "outputId": "52671aaf-6e8d-4a30-e5a7-6ba56446e298"
      },
      "source": [
        "liblist = sorted([e.name for e in os.scandir(r'/usr/local/lib/python'+sys.version[0:3]+'/dist-packages')])\r\n",
        "[l for l in liblist if re.search(re.compile(\".*leven.*\", re.IGNORECASE), l) is not None]"
      ],
      "execution_count": null,
      "outputs": [
        {
          "output_type": "execute_result",
          "data": {
            "text/plain": [
              "['Levenshtein', 'python_Levenshtein-0.12.2.dist-info']"
            ]
          },
          "metadata": {
            "tags": []
          },
          "execution_count": 4
        }
      ]
    },
    {
      "cell_type": "code",
      "metadata": {
        "id": "CHj7mWZfM0Mi"
      },
      "source": [
        "# The elusive convertbng\r\n",
        "from convertbng.util import convert_osgb36_to_lonlat\r\n",
        "# Our lovely Levenstein distance module\r\n",
        "import Levenshtein"
      ],
      "execution_count": null,
      "outputs": []
    },
    {
      "cell_type": "markdown",
      "metadata": {
        "id": "WYd7cbBjNrGN"
      },
      "source": [
        "## Module settings"
      ]
    },
    {
      "cell_type": "code",
      "metadata": {
        "id": "ka2vyXqLNwOX"
      },
      "source": [
        "# changing default figure size and style for matplotlib\r\n",
        "rcParams[\"figure.figsize\"] = 20, 10\r\n",
        "mpl.style.use('ggplot')\r\n",
        "warnings.filterwarnings('ignore')\r\n",
        "myBag = dict()"
      ],
      "execution_count": null,
      "outputs": []
    },
    {
      "cell_type": "markdown",
      "metadata": {
        "id": "kKXwMGMzPhGQ"
      },
      "source": [
        "## Functions"
      ]
    },
    {
      "cell_type": "code",
      "metadata": {
        "id": "kCHlFTbDPgja"
      },
      "source": [
        "def throwaway_function_for_filter_elements(df):\r\n",
        "  list_of_boroughs = sorted(df[\"ProperCase\"].unique().tolist())\r\n",
        "\r\n",
        "  list_of_years = df[\"CalYear\"].unique().tolist()\r\n",
        "  list_of_incidents = sorted(df[\"IncidentGroup\"].unique().tolist())\r\n",
        "  list_of_boroughs.insert(0, \".*\") \r\n",
        "  list_of_incidents.insert(0, \".*\") \r\n",
        "\r\n",
        "  year_selector = widgets.IntRangeSlider(\r\n",
        "      description = \"Year: \",\r\n",
        "      min = df[\"CalYear\"].unique().min(),\r\n",
        "      max = df[\"CalYear\"].unique().max(),\r\n",
        "      step = 1,\r\n",
        "      orientation='horizontal',\r\n",
        "      readout=True,\r\n",
        "      value = [df[\"CalYear\"].unique().min(), df[\"CalYear\"].unique().max()],\r\n",
        "      style = {'description_width': 'initial'}\r\n",
        "  )\r\n",
        "\r\n",
        "\r\n",
        "  borough_selector = widgets.Dropdown(\r\n",
        "      description = \"Borough (ProperCase): \",\r\n",
        "      value = \".*\",\r\n",
        "      options = [(i,i) for i in list_of_boroughs],\r\n",
        "      continuous_update=True,\r\n",
        "      style = {'description_width': 'initial'}\r\n",
        "      )\r\n",
        "  def get_available_wards():\r\n",
        "      list_of_wards = []\r\n",
        "      list_of_wards.insert(0, \".*\")\r\n",
        "      list_of_wards.extend(sorted(df[df[\"IncGeo_BoroughName\"] == borough_selector.value.upper()][\"IncGeo_WardNameNew\"].unique().tolist()))\r\n",
        "      return list_of_wards\r\n",
        "\r\n",
        "  ward_selector = widgets.Dropdown(\r\n",
        "      description = \"Ward: \",\r\n",
        "      value = \".*\",\r\n",
        "      options = [(i,i) for i in get_available_wards()],\r\n",
        "      continuous_update=True,\r\n",
        "      style = {'description_width': 'initial'}  \r\n",
        "      )\r\n",
        "\r\n",
        "  def on_value_change(change):\r\n",
        "    ward_selector.options = [(i,i) for i in get_available_wards()]\r\n",
        "    ward_selector.value = \".*\"\r\n",
        "\r\n",
        "\r\n",
        "  borough_selector.observe(on_value_change, names = \"value\")\r\n",
        "\r\n",
        "  type_selector = widgets.Dropdown(\r\n",
        "      description = \"IncidentGroup: \",\r\n",
        "      value = \".*\",\r\n",
        "      options = [(i,i) for i in list_of_incidents],\r\n",
        "      style = {'description_width': 'initial'} )\r\n",
        "  vbox = VBox([year_selector, type_selector,  borough_selector, ward_selector])\r\n",
        "  def f(return_df = False):\r\n",
        "    if return_df:\r\n",
        "      return df\r\n",
        "    return vbox\r\n",
        "  return f\r\n"
      ],
      "execution_count": null,
      "outputs": []
    },
    {
      "cell_type": "code",
      "metadata": {
        "id": "mRnAAUTaXWDw"
      },
      "source": [
        "def get_filtered_dataframe():\r\n",
        "  filter_elements = get_filter_elements().children\r\n",
        "  df = get_filter_elements(return_df = True)\r\n",
        "  return df[(df.CalYear.isin(range(filter_elements[0].value[0], filter_elements[0].value[1]+1))) &\r\n",
        "            (df[\"IncidentGroup\"].str.match(re.compile(filter_elements[1].value), re.IGNORECASE)) &\r\n",
        "             (df[\"ProperCase\"].str.match(re.compile(filter_elements[2].value), re.IGNORECASE)) & \r\n",
        "             (df[\"IncGeo_WardNameNew\"].str.match(re.compile(filter_elements[3].value), re.IGNORECASE))\r\n",
        "            ]"
      ],
      "execution_count": null,
      "outputs": []
    },
    {
      "cell_type": "markdown",
      "metadata": {
        "id": "ZszmMFcANd2L"
      },
      "source": [
        "## Data acquisition"
      ]
    },
    {
      "cell_type": "code",
      "metadata": {
        "id": "tKMW0mI9NVyr"
      },
      "source": [
        "myBag[\"lfb_data_url\"] = \"https://data.london.gov.uk/download/london-fire-brigade-incident-records/b8f76a50-c7a0-4ff4-b3e4-7a42c5d0e8e3/LFB%20Incident%20data%20from%20January%202017.xlsx\""
      ],
      "execution_count": null,
      "outputs": []
    },
    {
      "cell_type": "code",
      "metadata": {
        "colab": {
          "base_uri": "https://localhost:8080/"
        },
        "id": "ck2H0eoxNmOO",
        "outputId": "dff3c6e5-7313-4efc-f26d-812f48c076cb"
      },
      "source": [
        "faking_browser = {'User-Agent': 'Mozilla/5.0 (X11; Ubuntu; Linux x86_64; rv:77.0) Gecko/20100101 Firefox/77.0'}\r\n",
        "response = requests.get(myBag[\"lfb_data_url\"], headers = faking_browser )\r\n",
        "if(response.ok):\r\n",
        "  print(\"Data has been retrieved.\")\r\n",
        "  bytes_data = response.content\r\n",
        "  buffer = io.BytesIO(bytes_data)\r\n",
        "  have_a_look_at_excel = pd.ExcelFile(buffer)\r\n",
        "else:\r\n",
        "  print(\"Eh-raw\")"
      ],
      "execution_count": null,
      "outputs": [
        {
          "output_type": "stream",
          "text": [
            "Data has been retrieved.\n"
          ],
          "name": "stdout"
        }
      ]
    },
    {
      "cell_type": "code",
      "metadata": {
        "id": "YfAdID2sQnpL"
      },
      "source": [
        "myBag[\"df\"] = df = pd.read_excel(have_a_look_at_excel)"
      ],
      "execution_count": null,
      "outputs": []
    },
    {
      "cell_type": "markdown",
      "metadata": {
        "id": "WTusygBSOpyx"
      },
      "source": [
        "## Narrowing the scope"
      ]
    },
    {
      "cell_type": "code",
      "metadata": {
        "id": "FAZsVC3ycL7w"
      },
      "source": [
        "## Limiting the scope"
      ],
      "execution_count": null,
      "outputs": []
    },
    {
      "cell_type": "code",
      "metadata": {
        "id": "CwNTxykRcz3g"
      },
      "source": [
        "get_filter_elements = throwaway_function_for_filter_elements(myBag[\"df\"])"
      ],
      "execution_count": null,
      "outputs": []
    },
    {
      "cell_type": "code",
      "metadata": {
        "colab": {
          "base_uri": "https://localhost:8080/",
          "height": 145,
          "referenced_widgets": [
            "fdd1337ccea4465fa93d0a1945a251d9",
            "05ae4cfdc73e4d978d7d370fcc0adcd1",
            "4aaa6cc02b614467856828299451c801",
            "195020b9f85f44408f663000d4e562cb",
            "0aa5a2d4e9f442b19161b4ca63a47937",
            "777de7b2af0f4886872d26ea273d3cb3",
            "c242776b8cb54fb5bf81f3fc0ef0d96c",
            "0afe4e34b2ee48b9bfc5defe92498f64",
            "2c889adeec09434b973ee34224cc0794",
            "a22e557745b34b9c866d9a362c88f84f",
            "2f51c9652dda471fbc44a35398b03d02",
            "f63aa583c8ce41028c1cf3347974e831",
            "21f587e100e349cc9f79b1263aec29ee",
            "954373f5b4694267b76d5111b6f3246f"
          ]
        },
        "id": "9MjSCfYqQg0A",
        "outputId": "93b3cc4e-d9f4-4fa4-89d5-9d645036ae3e"
      },
      "source": [
        "get_filter_elements()"
      ],
      "execution_count": null,
      "outputs": [
        {
          "output_type": "display_data",
          "data": {
            "application/vnd.jupyter.widget-view+json": {
              "model_id": "fdd1337ccea4465fa93d0a1945a251d9",
              "version_minor": 0,
              "version_major": 2
            },
            "text/plain": [
              "VBox(children=(IntRangeSlider(value=(2017, 2021), description='Year: ', max=2021, min=2017, style=SliderStyle(…"
            ]
          },
          "metadata": {
            "tags": []
          }
        }
      ]
    },
    {
      "cell_type": "markdown",
      "metadata": {
        "id": "qW1SSJoxV70N"
      },
      "source": [
        "## Filtering the dataframe"
      ]
    },
    {
      "cell_type": "code",
      "metadata": {
        "colab": {
          "base_uri": "https://localhost:8080/",
          "height": 244
        },
        "id": "tAmr_XQmUVMM",
        "outputId": "3d227ef4-66fa-4538-e5c9-1a1a3755fad3"
      },
      "source": [
        "myBag[\"last_filtered_df\"] = get_filtered_dataframe()\r\n",
        "myBag[\"last_filtered_df\"].head(3)"
      ],
      "execution_count": null,
      "outputs": [
        {
          "output_type": "execute_result",
          "data": {
            "text/html": [
              "<div>\n",
              "<style scoped>\n",
              "    .dataframe tbody tr th:only-of-type {\n",
              "        vertical-align: middle;\n",
              "    }\n",
              "\n",
              "    .dataframe tbody tr th {\n",
              "        vertical-align: top;\n",
              "    }\n",
              "\n",
              "    .dataframe thead th {\n",
              "        text-align: right;\n",
              "    }\n",
              "</style>\n",
              "<table border=\"1\" class=\"dataframe\">\n",
              "  <thead>\n",
              "    <tr style=\"text-align: right;\">\n",
              "      <th></th>\n",
              "      <th>IncidentNumber</th>\n",
              "      <th>DateOfCall</th>\n",
              "      <th>CalYear</th>\n",
              "      <th>TimeOfCall</th>\n",
              "      <th>HourOfCall</th>\n",
              "      <th>IncidentGroup</th>\n",
              "      <th>StopCodeDescription</th>\n",
              "      <th>SpecialServiceType</th>\n",
              "      <th>PropertyCategory</th>\n",
              "      <th>PropertyType</th>\n",
              "      <th>AddressQualifier</th>\n",
              "      <th>Postcode_full</th>\n",
              "      <th>Postcode_district</th>\n",
              "      <th>UPRN</th>\n",
              "      <th>USRN</th>\n",
              "      <th>IncGeo_BoroughCode</th>\n",
              "      <th>IncGeo_BoroughName</th>\n",
              "      <th>ProperCase</th>\n",
              "      <th>IncGeo_WardCode</th>\n",
              "      <th>IncGeo_WardName</th>\n",
              "      <th>IncGeo_WardNameNew</th>\n",
              "      <th>Easting_m</th>\n",
              "      <th>Northing_m</th>\n",
              "      <th>Easting_rounded</th>\n",
              "      <th>Northing_rounded</th>\n",
              "      <th>Latitude</th>\n",
              "      <th>Longitude</th>\n",
              "      <th>FRS</th>\n",
              "      <th>IncidentStationGround</th>\n",
              "      <th>FirstPumpArriving_AttendanceTime</th>\n",
              "      <th>FirstPumpArriving_DeployedFromStation</th>\n",
              "      <th>SecondPumpArriving_AttendanceTime</th>\n",
              "      <th>SecondPumpArriving_DeployedFromStation</th>\n",
              "      <th>NumStationsWithPumpsAttending</th>\n",
              "      <th>NumPumpsAttending</th>\n",
              "      <th>PumpCount</th>\n",
              "      <th>PumpHoursRoundUp</th>\n",
              "      <th>Notional Cost (£)</th>\n",
              "    </tr>\n",
              "  </thead>\n",
              "  <tbody>\n",
              "    <tr>\n",
              "      <th>0</th>\n",
              "      <td>000298-01012017</td>\n",
              "      <td>2017-01-01</td>\n",
              "      <td>2017</td>\n",
              "      <td>14:17:24</td>\n",
              "      <td>14</td>\n",
              "      <td>False Alarm</td>\n",
              "      <td>False alarm - Good intent</td>\n",
              "      <td>NaN</td>\n",
              "      <td>Non Residential</td>\n",
              "      <td>Restaurant/cafe</td>\n",
              "      <td>Correct incident location</td>\n",
              "      <td>E4 7QH</td>\n",
              "      <td>E4</td>\n",
              "      <td>10091774658</td>\n",
              "      <td>22869100</td>\n",
              "      <td>E09000031</td>\n",
              "      <td>WALTHAM FOREST</td>\n",
              "      <td>Waltham Forest</td>\n",
              "      <td>E05000593</td>\n",
              "      <td>CHINGFORD GREEN</td>\n",
              "      <td>CHINGFORD GREEN</td>\n",
              "      <td>539649.0</td>\n",
              "      <td>194764.0</td>\n",
              "      <td>539650</td>\n",
              "      <td>194750</td>\n",
              "      <td>51.634359</td>\n",
              "      <td>0.016468</td>\n",
              "      <td>London</td>\n",
              "      <td>Chingford</td>\n",
              "      <td>159.0</td>\n",
              "      <td>Chingford</td>\n",
              "      <td>296.0</td>\n",
              "      <td>Woodford</td>\n",
              "      <td>2.0</td>\n",
              "      <td>2.0</td>\n",
              "      <td>2.0</td>\n",
              "      <td>1.0</td>\n",
              "      <td>326.0</td>\n",
              "    </tr>\n",
              "    <tr>\n",
              "      <th>1</th>\n",
              "      <td>000051-01012017</td>\n",
              "      <td>2017-01-01</td>\n",
              "      <td>2017</td>\n",
              "      <td>00:50:06</td>\n",
              "      <td>0</td>\n",
              "      <td>Fire</td>\n",
              "      <td>Secondary Fire</td>\n",
              "      <td>NaN</td>\n",
              "      <td>Outdoor Structure</td>\n",
              "      <td>Small refuse/rubbish container</td>\n",
              "      <td>In street outside gazetteer location</td>\n",
              "      <td>E6 3EU</td>\n",
              "      <td>E6</td>\n",
              "      <td>46079106</td>\n",
              "      <td>22201202</td>\n",
              "      <td>E09000025</td>\n",
              "      <td>NEWHAM</td>\n",
              "      <td>Newham</td>\n",
              "      <td>E05000476</td>\n",
              "      <td>BOLEYN</td>\n",
              "      <td>BOLEYN</td>\n",
              "      <td>541703.0</td>\n",
              "      <td>182755.0</td>\n",
              "      <td>541750</td>\n",
              "      <td>182750</td>\n",
              "      <td>51.525937</td>\n",
              "      <td>0.041286</td>\n",
              "      <td>London</td>\n",
              "      <td>East Ham</td>\n",
              "      <td>262.0</td>\n",
              "      <td>Plaistow</td>\n",
              "      <td>NaN</td>\n",
              "      <td>NaN</td>\n",
              "      <td>1.0</td>\n",
              "      <td>1.0</td>\n",
              "      <td>1.0</td>\n",
              "      <td>1.0</td>\n",
              "      <td>326.0</td>\n",
              "    </tr>\n",
              "    <tr>\n",
              "      <th>2</th>\n",
              "      <td>000429-01012017</td>\n",
              "      <td>2017-01-01</td>\n",
              "      <td>2017</td>\n",
              "      <td>21:00:49</td>\n",
              "      <td>21</td>\n",
              "      <td>False Alarm</td>\n",
              "      <td>AFA</td>\n",
              "      <td>NaN</td>\n",
              "      <td>Non Residential</td>\n",
              "      <td>Pub/wine bar/bar</td>\n",
              "      <td>Correct incident location</td>\n",
              "      <td>SE15 4HY</td>\n",
              "      <td>SE15</td>\n",
              "      <td>200003394409</td>\n",
              "      <td>22501092</td>\n",
              "      <td>E09000028</td>\n",
              "      <td>SOUTHWARK</td>\n",
              "      <td>Southwark</td>\n",
              "      <td>E05011103</td>\n",
              "      <td>Goose Green</td>\n",
              "      <td>Goose Green</td>\n",
              "      <td>534131.0</td>\n",
              "      <td>175641.0</td>\n",
              "      <td>534150</td>\n",
              "      <td>175650</td>\n",
              "      <td>51.463855</td>\n",
              "      <td>-0.070499</td>\n",
              "      <td>London</td>\n",
              "      <td>Peckham</td>\n",
              "      <td>314.0</td>\n",
              "      <td>Peckham</td>\n",
              "      <td>NaN</td>\n",
              "      <td>NaN</td>\n",
              "      <td>1.0</td>\n",
              "      <td>1.0</td>\n",
              "      <td>1.0</td>\n",
              "      <td>1.0</td>\n",
              "      <td>326.0</td>\n",
              "    </tr>\n",
              "  </tbody>\n",
              "</table>\n",
              "</div>"
            ],
            "text/plain": [
              "    IncidentNumber DateOfCall  ...  PumpHoursRoundUp Notional Cost (£)\n",
              "0  000298-01012017 2017-01-01  ...               1.0             326.0\n",
              "1  000051-01012017 2017-01-01  ...               1.0             326.0\n",
              "2  000429-01012017 2017-01-01  ...               1.0             326.0\n",
              "\n",
              "[3 rows x 38 columns]"
            ]
          },
          "metadata": {
            "tags": []
          },
          "execution_count": 57
        }
      ]
    },
    {
      "cell_type": "markdown",
      "metadata": {
        "id": "zSmMO9UsOxuH"
      },
      "source": [
        "## A quick reminder of data types and columns"
      ]
    },
    {
      "cell_type": "code",
      "metadata": {
        "colab": {
          "base_uri": "https://localhost:8080/"
        },
        "id": "fE5VM6_d0igH",
        "outputId": "8dca4f2e-9735-4f2d-ae6e-33a2af66d6bb"
      },
      "source": [
        "myBag[\"last_filtered_df\"].describe()"
      ],
      "execution_count": null,
      "outputs": [
        {
          "output_type": "execute_result",
          "data": {
            "text/html": [
              "<div>\n",
              "<style scoped>\n",
              "    .dataframe tbody tr th:only-of-type {\n",
              "        vertical-align: middle;\n",
              "    }\n",
              "\n",
              "    .dataframe tbody tr th {\n",
              "        vertical-align: top;\n",
              "    }\n",
              "\n",
              "    .dataframe thead th {\n",
              "        text-align: right;\n",
              "    }\n",
              "</style>\n",
              "<table border=\"1\" class=\"dataframe\">\n",
              "  <thead>\n",
              "    <tr style=\"text-align: right;\">\n",
              "      <th></th>\n",
              "      <th>CalYear</th>\n",
              "      <th>HourOfCall</th>\n",
              "      <th>UPRN</th>\n",
              "      <th>USRN</th>\n",
              "      <th>Easting_m</th>\n",
              "      <th>Northing_m</th>\n",
              "      <th>Easting_rounded</th>\n",
              "      <th>Northing_rounded</th>\n",
              "      <th>Latitude</th>\n",
              "      <th>Longitude</th>\n",
              "      <th>FirstPumpArriving_AttendanceTime</th>\n",
              "      <th>SecondPumpArriving_AttendanceTime</th>\n",
              "      <th>NumStationsWithPumpsAttending</th>\n",
              "      <th>NumPumpsAttending</th>\n",
              "      <th>PumpCount</th>\n",
              "      <th>PumpHoursRoundUp</th>\n",
              "      <th>Notional Cost (£)</th>\n",
              "    </tr>\n",
              "  </thead>\n",
              "  <tbody>\n",
              "    <tr>\n",
              "      <th>count</th>\n",
              "      <td>420243.000000</td>\n",
              "      <td>420243.000000</td>\n",
              "      <td>4.202430e+05</td>\n",
              "      <td>4.202430e+05</td>\n",
              "      <td>206742.000000</td>\n",
              "      <td>206742.000000</td>\n",
              "      <td>420243.000000</td>\n",
              "      <td>420243.000000</td>\n",
              "      <td>206742.000000</td>\n",
              "      <td>206742.000000</td>\n",
              "      <td>396059.000000</td>\n",
              "      <td>160962.000000</td>\n",
              "      <td>417989.000000</td>\n",
              "      <td>417989.000000</td>\n",
              "      <td>418405.000000</td>\n",
              "      <td>418280.000000</td>\n",
              "      <td>418280.000000</td>\n",
              "    </tr>\n",
              "    <tr>\n",
              "      <th>mean</th>\n",
              "      <td>2018.523906</td>\n",
              "      <td>13.469257</td>\n",
              "      <td>2.287758e+10</td>\n",
              "      <td>2.035041e+07</td>\n",
              "      <td>530644.419397</td>\n",
              "      <td>180399.331597</td>\n",
              "      <td>530670.990950</td>\n",
              "      <td>180522.519709</td>\n",
              "      <td>51.446808</td>\n",
              "      <td>-0.118710</td>\n",
              "      <td>310.205111</td>\n",
              "      <td>388.037332</td>\n",
              "      <td>1.383838</td>\n",
              "      <td>1.566948</td>\n",
              "      <td>1.620834</td>\n",
              "      <td>1.373597</td>\n",
              "      <td>460.732055</td>\n",
              "    </tr>\n",
              "    <tr>\n",
              "      <th>std</th>\n",
              "      <td>1.146158</td>\n",
              "      <td>6.247467</td>\n",
              "      <td>4.793035e+10</td>\n",
              "      <td>4.801780e+06</td>\n",
              "      <td>10344.461021</td>\n",
              "      <td>7484.717039</td>\n",
              "      <td>9733.341425</td>\n",
              "      <td>7395.221092</td>\n",
              "      <td>1.766109</td>\n",
              "      <td>0.149110</td>\n",
              "      <td>131.824625</td>\n",
              "      <td>147.289737</td>\n",
              "      <td>0.721471</td>\n",
              "      <td>0.874773</td>\n",
              "      <td>1.652881</td>\n",
              "      <td>6.886935</td>\n",
              "      <td>2294.186846</td>\n",
              "    </tr>\n",
              "    <tr>\n",
              "      <th>min</th>\n",
              "      <td>2017.000000</td>\n",
              "      <td>0.000000</td>\n",
              "      <td>0.000000e+00</td>\n",
              "      <td>4.200740e+06</td>\n",
              "      <td>503582.000000</td>\n",
              "      <td>155998.000000</td>\n",
              "      <td>503550.000000</td>\n",
              "      <td>155950.000000</td>\n",
              "      <td>0.000000</td>\n",
              "      <td>-0.510155</td>\n",
              "      <td>1.000000</td>\n",
              "      <td>1.000000</td>\n",
              "      <td>1.000000</td>\n",
              "      <td>1.000000</td>\n",
              "      <td>1.000000</td>\n",
              "      <td>1.000000</td>\n",
              "      <td>326.000000</td>\n",
              "    </tr>\n",
              "    <tr>\n",
              "      <th>25%</th>\n",
              "      <td>2018.000000</td>\n",
              "      <td>9.000000</td>\n",
              "      <td>0.000000e+00</td>\n",
              "      <td>2.040087e+07</td>\n",
              "      <td>525045.000000</td>\n",
              "      <td>175882.000000</td>\n",
              "      <td>525150.000000</td>\n",
              "      <td>176150.000000</td>\n",
              "      <td>51.467583</td>\n",
              "      <td>-0.199554</td>\n",
              "      <td>228.000000</td>\n",
              "      <td>294.000000</td>\n",
              "      <td>1.000000</td>\n",
              "      <td>1.000000</td>\n",
              "      <td>1.000000</td>\n",
              "      <td>1.000000</td>\n",
              "      <td>328.000000</td>\n",
              "    </tr>\n",
              "    <tr>\n",
              "      <th>50%</th>\n",
              "      <td>2019.000000</td>\n",
              "      <td>14.000000</td>\n",
              "      <td>0.000000e+00</td>\n",
              "      <td>2.120103e+07</td>\n",
              "      <td>530812.500000</td>\n",
              "      <td>181004.000000</td>\n",
              "      <td>530950.000000</td>\n",
              "      <td>181050.000000</td>\n",
              "      <td>51.513058</td>\n",
              "      <td>-0.116925</td>\n",
              "      <td>292.000000</td>\n",
              "      <td>363.000000</td>\n",
              "      <td>1.000000</td>\n",
              "      <td>1.000000</td>\n",
              "      <td>1.000000</td>\n",
              "      <td>1.000000</td>\n",
              "      <td>339.000000</td>\n",
              "    </tr>\n",
              "    <tr>\n",
              "      <th>75%</th>\n",
              "      <td>2020.000000</td>\n",
              "      <td>19.000000</td>\n",
              "      <td>1.002535e+10</td>\n",
              "      <td>2.210052e+07</td>\n",
              "      <td>536958.000000</td>\n",
              "      <td>185072.000000</td>\n",
              "      <td>536350.000000</td>\n",
              "      <td>185250.000000</td>\n",
              "      <td>51.549157</td>\n",
              "      <td>-0.026776</td>\n",
              "      <td>369.000000</td>\n",
              "      <td>452.000000</td>\n",
              "      <td>2.000000</td>\n",
              "      <td>2.000000</td>\n",
              "      <td>2.000000</td>\n",
              "      <td>1.000000</td>\n",
              "      <td>346.000000</td>\n",
              "    </tr>\n",
              "    <tr>\n",
              "      <th>max</th>\n",
              "      <td>2021.000000</td>\n",
              "      <td>23.000000</td>\n",
              "      <td>2.000044e+11</td>\n",
              "      <td>9.999042e+07</td>\n",
              "      <td>560251.000000</td>\n",
              "      <td>200899.000000</td>\n",
              "      <td>560250.000000</td>\n",
              "      <td>200850.000000</td>\n",
              "      <td>51.691568</td>\n",
              "      <td>0.310609</td>\n",
              "      <td>1200.000000</td>\n",
              "      <td>1200.000000</td>\n",
              "      <td>11.000000</td>\n",
              "      <td>14.000000</td>\n",
              "      <td>319.000000</td>\n",
              "      <td>2163.000000</td>\n",
              "      <td>709464.000000</td>\n",
              "    </tr>\n",
              "  </tbody>\n",
              "</table>\n",
              "</div>"
            ],
            "text/plain": [
              "             CalYear     HourOfCall  ...  PumpHoursRoundUp  Notional Cost (£)\n",
              "count  420243.000000  420243.000000  ...     418280.000000      418280.000000\n",
              "mean     2018.523906      13.469257  ...          1.373597         460.732055\n",
              "std         1.146158       6.247467  ...          6.886935        2294.186846\n",
              "min      2017.000000       0.000000  ...          1.000000         326.000000\n",
              "25%      2018.000000       9.000000  ...          1.000000         328.000000\n",
              "50%      2019.000000      14.000000  ...          1.000000         339.000000\n",
              "75%      2020.000000      19.000000  ...          1.000000         346.000000\n",
              "max      2021.000000      23.000000  ...       2163.000000      709464.000000\n",
              "\n",
              "[8 rows x 17 columns]"
            ]
          },
          "metadata": {
            "tags": []
          },
          "execution_count": 16
        }
      ]
    },
    {
      "cell_type": "code",
      "metadata": {
        "colab": {
          "base_uri": "https://localhost:8080/"
        },
        "id": "8-akyHH-O8DM",
        "outputId": "b40abba2-5292-422e-94ca-8ea0b88f6e2a"
      },
      "source": [
        "myBag[\"last_filtered_df\"].dtypes"
      ],
      "execution_count": null,
      "outputs": [
        {
          "output_type": "execute_result",
          "data": {
            "text/plain": [
              "IncidentNumber                                    object\n",
              "DateOfCall                                datetime64[ns]\n",
              "CalYear                                            int64\n",
              "TimeOfCall                                        object\n",
              "HourOfCall                                         int64\n",
              "IncidentGroup                                     object\n",
              "StopCodeDescription                               object\n",
              "SpecialServiceType                                object\n",
              "PropertyCategory                                  object\n",
              "PropertyType                                      object\n",
              "AddressQualifier                                  object\n",
              "Postcode_full                                     object\n",
              "Postcode_district                                 object\n",
              "UPRN                                               int64\n",
              "USRN                                               int64\n",
              "IncGeo_BoroughCode                                object\n",
              "IncGeo_BoroughName                                object\n",
              "ProperCase                                        object\n",
              "IncGeo_WardCode                                   object\n",
              "IncGeo_WardName                                   object\n",
              "IncGeo_WardNameNew                                object\n",
              "Easting_m                                        float64\n",
              "Northing_m                                       float64\n",
              "Easting_rounded                                    int64\n",
              "Northing_rounded                                   int64\n",
              "Latitude                                         float64\n",
              "Longitude                                        float64\n",
              "FRS                                               object\n",
              "IncidentStationGround                             object\n",
              "FirstPumpArriving_AttendanceTime                 float64\n",
              "FirstPumpArriving_DeployedFromStation             object\n",
              "SecondPumpArriving_AttendanceTime                float64\n",
              "SecondPumpArriving_DeployedFromStation            object\n",
              "NumStationsWithPumpsAttending                    float64\n",
              "NumPumpsAttending                                float64\n",
              "PumpCount                                        float64\n",
              "PumpHoursRoundUp                                 float64\n",
              "Notional Cost (£)                                float64\n",
              "dtype: object"
            ]
          },
          "metadata": {
            "tags": []
          },
          "execution_count": 17
        }
      ]
    },
    {
      "cell_type": "markdown",
      "metadata": {
        "id": "zNPceSLWeIfv"
      },
      "source": [
        "## Dropping columns that are not needed #1"
      ]
    },
    {
      "cell_type": "code",
      "metadata": {
        "id": "zbAfoflaeHNO"
      },
      "source": [
        "columns_to_drop = \"Postcode_full,Postcode_district,UPRN,USRN,Easting_m,Northing_m,FRS,\"\r\n",
        "columns_to_drop += \"IncidentStationGround,FirstPumpArriving_AttendanceTime,FirstPumpArriving_DeployedFromStation,\"\r\n",
        "columns_to_drop += \"SecondPumpArriving_AttendanceTime,SecondPumpArriving_DeployedFromStation,\"\r\n",
        "columns_to_drop += \"NumStationsWithPumpsAttending,NumPumpsAttending,PumpCount,Notional Cost (£)\"\r\n",
        "columns_to_drop = columns_to_drop.split(\",\")\r\n",
        "myBag[\"last_filtered_df\"].drop(columns = columns_to_drop, inplace = True)"
      ],
      "execution_count": null,
      "outputs": []
    },
    {
      "cell_type": "code",
      "metadata": {
        "colab": {
          "base_uri": "https://localhost:8080/"
        },
        "id": "VrX-S4XenCm7",
        "outputId": "665f8e88-4673-4cf6-8807-405050120910"
      },
      "source": [
        "myBag[\"last_filtered_df\"].columns"
      ],
      "execution_count": null,
      "outputs": [
        {
          "output_type": "execute_result",
          "data": {
            "text/plain": [
              "Index(['IncidentNumber', 'DateOfCall', 'CalYear', 'TimeOfCall', 'HourOfCall',\n",
              "       'IncidentGroup', 'StopCodeDescription', 'SpecialServiceType',\n",
              "       'PropertyCategory', 'PropertyType', 'AddressQualifier',\n",
              "       'IncGeo_BoroughCode', 'IncGeo_BoroughName', 'ProperCase',\n",
              "       'IncGeo_WardCode', 'IncGeo_WardName', 'IncGeo_WardNameNew',\n",
              "       'Easting_rounded', 'Northing_rounded', 'Latitude', 'Longitude',\n",
              "       'PumpHoursRoundUp'],\n",
              "      dtype='object')"
            ]
          },
          "metadata": {
            "tags": []
          },
          "execution_count": 19
        }
      ]
    },
    {
      "cell_type": "markdown",
      "metadata": {
        "id": "5mj7JPOZnszG"
      },
      "source": [
        "## Handling null values"
      ]
    },
    {
      "cell_type": "code",
      "metadata": {
        "colab": {
          "base_uri": "https://localhost:8080/"
        },
        "id": "zbvoyjnpN3IF",
        "outputId": "3d190e9d-d1e6-4ebe-c7f0-6c2498e13db0"
      },
      "source": [
        "columns_with_null = myBag[\"last_filtered_df\"].columns[myBag[\"last_filtered_df\"].isna().sum() > 0].values\r\n",
        "columns_with_null"
      ],
      "execution_count": null,
      "outputs": [
        {
          "output_type": "execute_result",
          "data": {
            "text/plain": [
              "array(['SpecialServiceType', 'Latitude', 'Longitude', 'PumpHoursRoundUp'],\n",
              "      dtype=object)"
            ]
          },
          "metadata": {
            "tags": []
          },
          "execution_count": 20
        }
      ]
    },
    {
      "cell_type": "code",
      "metadata": {
        "colab": {
          "base_uri": "https://localhost:8080/"
        },
        "id": "YcZFOphcdk3F",
        "outputId": "d4169599-266c-4989-e44f-fb2ecb47869e"
      },
      "source": [
        "myBag[\"last_filtered_df\"][columns_with_null].isna().sum()"
      ],
      "execution_count": null,
      "outputs": [
        {
          "output_type": "execute_result",
          "data": {
            "text/plain": [
              "SpecialServiceType    288444\n",
              "Latitude              213501\n",
              "Longitude             213501\n",
              "PumpHoursRoundUp        1963\n",
              "dtype: int64"
            ]
          },
          "metadata": {
            "tags": []
          },
          "execution_count": 21
        }
      ]
    },
    {
      "cell_type": "code",
      "metadata": {
        "id": "0OhAOq2EnLpr"
      },
      "source": [
        "# handling textual nulls (object type)\r\n",
        "missing_value_str = \"missing_data\" \r\n",
        "myBag[\"last_filtered_df\"][columns_with_null[0]] = myBag[\"last_filtered_df\"][columns_with_null[0]].fillna(missing_value_str)"
      ],
      "execution_count": null,
      "outputs": []
    },
    {
      "cell_type": "code",
      "metadata": {
        "id": "RulKYa7-QDdm"
      },
      "source": [
        "# handling numerical nulls\r\n",
        "missing_value_num = 0\r\n",
        "myBag[\"last_filtered_df\"][columns_with_null[1:]] = myBag[\"last_filtered_df\"][columns_with_null[1:]].fillna(missing_value_num)"
      ],
      "execution_count": null,
      "outputs": []
    },
    {
      "cell_type": "code",
      "metadata": {
        "colab": {
          "base_uri": "https://localhost:8080/"
        },
        "id": "5UwveoIUnlJc",
        "outputId": "edb68861-6d7d-4f76-cff5-1dd8bebf41e8"
      },
      "source": [
        "myBag[\"last_filtered_df\"][columns_with_null].isna().sum()"
      ],
      "execution_count": null,
      "outputs": [
        {
          "output_type": "execute_result",
          "data": {
            "text/plain": [
              "SpecialServiceType    0\n",
              "Latitude              0\n",
              "Longitude             0\n",
              "PumpHoursRoundUp      0\n",
              "dtype: int64"
            ]
          },
          "metadata": {
            "tags": []
          },
          "execution_count": 24
        }
      ]
    },
    {
      "cell_type": "markdown",
      "metadata": {
        "id": "FhaVS45wqIuW"
      },
      "source": [
        "## Standardising BNG values (easting and northing) to GPS coordinates"
      ]
    },
    {
      "cell_type": "code",
      "metadata": {
        "id": "BzTv3mmnqOYL"
      },
      "source": [
        "bng_resolved = convert_osgb36_to_lonlat(myBag[\"last_filtered_df\"][\"Easting_rounded\"] , myBag[\"last_filtered_df\"][\"Northing_rounded\"])\r\n"
      ],
      "execution_count": null,
      "outputs": []
    },
    {
      "cell_type": "code",
      "metadata": {
        "id": "MTrAWQwxq8ZW"
      },
      "source": [
        "# Calculating difference between newly calulated and old values\r\n",
        "myBag[\"last_filtered_df\"][\"Longitude_new\"], myBag[\"last_filtered_df\"][\"Latitude_new\"] = bng_resolved\r\n",
        "myBag[\"last_filtered_df\"][\"lng_diff\"], myBag[\"last_filtered_df\"][\"lat_diff\"] =\\\r\n",
        "myBag[\"last_filtered_df\"][\"Longitude\"] - myBag[\"last_filtered_df\"][\"Longitude_new\"], \\\r\n",
        "myBag[\"last_filtered_df\"][\"Latitude\"] - myBag[\"last_filtered_df\"][\"Latitude_new\"]"
      ],
      "execution_count": null,
      "outputs": []
    },
    {
      "cell_type": "code",
      "metadata": {
        "id": "QhQUBsuIRWoj"
      },
      "source": [
        "# Setting the difference to 0 where the latitude and longitude values were missing\r\n",
        "myBag[\"last_filtered_df\"][\"lng_diff\"][myBag[\"last_filtered_df\"][\"Longitude\"] == 0] = 0\r\n",
        "myBag[\"last_filtered_df\"][\"lat_diff\"][myBag[\"last_filtered_df\"][\"Latitude\"] == 0] = 0"
      ],
      "execution_count": null,
      "outputs": []
    },
    {
      "cell_type": "markdown",
      "metadata": {
        "id": "eMIQ_LSxTJKs"
      },
      "source": [
        "#### Displaying the difference between the converted and original latitude and longitude values"
      ]
    },
    {
      "cell_type": "code",
      "metadata": {
        "colab": {
          "base_uri": "https://localhost:8080/",
          "height": 293
        },
        "id": "V8sg9LF6R_-6",
        "outputId": "e97b3621-d3e9-45f9-83a6-ef04b3981c9c"
      },
      "source": [
        "myBag[\"last_filtered_df\"][[\"lng_diff\", \"lat_diff\"]].describe()"
      ],
      "execution_count": null,
      "outputs": [
        {
          "output_type": "execute_result",
          "data": {
            "text/html": [
              "<div>\n",
              "<style scoped>\n",
              "    .dataframe tbody tr th:only-of-type {\n",
              "        vertical-align: middle;\n",
              "    }\n",
              "\n",
              "    .dataframe tbody tr th {\n",
              "        vertical-align: top;\n",
              "    }\n",
              "\n",
              "    .dataframe thead th {\n",
              "        text-align: right;\n",
              "    }\n",
              "</style>\n",
              "<table border=\"1\" class=\"dataframe\">\n",
              "  <thead>\n",
              "    <tr style=\"text-align: right;\">\n",
              "      <th></th>\n",
              "      <th>lng_diff</th>\n",
              "      <th>lat_diff</th>\n",
              "    </tr>\n",
              "  </thead>\n",
              "  <tbody>\n",
              "    <tr>\n",
              "      <th>count</th>\n",
              "      <td>206742.000000</td>\n",
              "      <td>206742.000000</td>\n",
              "    </tr>\n",
              "    <tr>\n",
              "      <th>mean</th>\n",
              "      <td>-0.000002</td>\n",
              "      <td>-0.000002</td>\n",
              "    </tr>\n",
              "    <tr>\n",
              "      <th>std</th>\n",
              "      <td>0.000416</td>\n",
              "      <td>0.000259</td>\n",
              "    </tr>\n",
              "    <tr>\n",
              "      <th>min</th>\n",
              "      <td>-0.002579</td>\n",
              "      <td>-0.002683</td>\n",
              "    </tr>\n",
              "    <tr>\n",
              "      <th>25%</th>\n",
              "      <td>-0.000361</td>\n",
              "      <td>-0.000227</td>\n",
              "    </tr>\n",
              "    <tr>\n",
              "      <th>50%</th>\n",
              "      <td>-0.000001</td>\n",
              "      <td>-0.000001</td>\n",
              "    </tr>\n",
              "    <tr>\n",
              "      <th>75%</th>\n",
              "      <td>0.000356</td>\n",
              "      <td>0.000222</td>\n",
              "    </tr>\n",
              "    <tr>\n",
              "      <th>max</th>\n",
              "      <td>0.010164</td>\n",
              "      <td>0.002454</td>\n",
              "    </tr>\n",
              "  </tbody>\n",
              "</table>\n",
              "</div>"
            ],
            "text/plain": [
              "            lng_diff       lat_diff\n",
              "count  206742.000000  206742.000000\n",
              "mean       -0.000002      -0.000002\n",
              "std         0.000416       0.000259\n",
              "min        -0.002579      -0.002683\n",
              "25%        -0.000361      -0.000227\n",
              "50%        -0.000001      -0.000001\n",
              "75%         0.000356       0.000222\n",
              "max         0.010164       0.002454"
            ]
          },
          "metadata": {
            "tags": []
          },
          "execution_count": 74
        }
      ]
    },
    {
      "cell_type": "code",
      "metadata": {
        "colab": {
          "base_uri": "https://localhost:8080/",
          "height": 140
        },
        "id": "F-Lz592ZrQZN",
        "outputId": "5d206e93-ddf7-4285-fc8d-56d93f8e0e05"
      },
      "source": [
        "myBag[\"last_filtered_df\"][[\"IncidentNumber\", \"Longitude\", \"Latitude\"]].head(3)"
      ],
      "execution_count": null,
      "outputs": [
        {
          "output_type": "execute_result",
          "data": {
            "text/html": [
              "<div>\n",
              "<style scoped>\n",
              "    .dataframe tbody tr th:only-of-type {\n",
              "        vertical-align: middle;\n",
              "    }\n",
              "\n",
              "    .dataframe tbody tr th {\n",
              "        vertical-align: top;\n",
              "    }\n",
              "\n",
              "    .dataframe thead th {\n",
              "        text-align: right;\n",
              "    }\n",
              "</style>\n",
              "<table border=\"1\" class=\"dataframe\">\n",
              "  <thead>\n",
              "    <tr style=\"text-align: right;\">\n",
              "      <th></th>\n",
              "      <th>IncidentNumber</th>\n",
              "      <th>Longitude</th>\n",
              "      <th>Latitude</th>\n",
              "    </tr>\n",
              "  </thead>\n",
              "  <tbody>\n",
              "    <tr>\n",
              "      <th>0</th>\n",
              "      <td>000298-01012017</td>\n",
              "      <td>0.016468</td>\n",
              "      <td>51.634359</td>\n",
              "    </tr>\n",
              "    <tr>\n",
              "      <th>1</th>\n",
              "      <td>000051-01012017</td>\n",
              "      <td>0.041286</td>\n",
              "      <td>51.525937</td>\n",
              "    </tr>\n",
              "    <tr>\n",
              "      <th>2</th>\n",
              "      <td>000429-01012017</td>\n",
              "      <td>-0.070499</td>\n",
              "      <td>51.463855</td>\n",
              "    </tr>\n",
              "  </tbody>\n",
              "</table>\n",
              "</div>"
            ],
            "text/plain": [
              "    IncidentNumber  Longitude   Latitude\n",
              "0  000298-01012017   0.016468  51.634359\n",
              "1  000051-01012017   0.041286  51.525937\n",
              "2  000429-01012017  -0.070499  51.463855"
            ]
          },
          "metadata": {
            "tags": []
          },
          "execution_count": 29
        }
      ]
    },
    {
      "cell_type": "markdown",
      "metadata": {
        "id": "ZL1yGaVzn4rI"
      },
      "source": [
        "## Breaking down the date column to its constituents"
      ]
    },
    {
      "cell_type": "code",
      "metadata": {
        "id": "TJIfuVyhOSqJ"
      },
      "source": [
        "def break_date_down(df, datecolumn = \"DateOfCall\"):\r\n",
        "  df['Month'] = df[datecolumn].dt.month\r\n",
        "  df['MonthStr'] = df[datecolumn].dt.month_name()\r\n",
        "\r\n",
        "  df['DayOfWeek'] = df[datecolumn].dt.dayofweek + 1\r\n",
        "  df['DayOfWeekStr'] = df[datecolumn].dt.day_name()\r\n",
        "\r\n",
        "  df['DayOfMonth'] = df[datecolumn].dt.day\r\n",
        "  df['DayOfYear'] = df[datecolumn].dt.dayofyear\r\n",
        "  df['WeekOfMonth'] = df.DayOfMonth.apply(lambda d: (d - 1) // 7 + 1)\r\n",
        "  df['WeekOfYear'] = df[datecolumn].dt.week"
      ],
      "execution_count": null,
      "outputs": []
    },
    {
      "cell_type": "code",
      "metadata": {
        "id": "xgFtVv7VPT7x"
      },
      "source": [
        "break_date_down(myBag[\"last_filtered_df\"])"
      ],
      "execution_count": null,
      "outputs": []
    },
    {
      "cell_type": "code",
      "metadata": {
        "id": "rOo5WyqdPI9i",
        "colab": {
          "base_uri": "https://localhost:8080/"
        },
        "outputId": "9ba9cdec-c548-4fb0-b35e-be1f061e6129"
      },
      "source": [
        "myBag[\"last_filtered_df\"].head(3)"
      ],
      "execution_count": null,
      "outputs": [
        {
          "output_type": "execute_result",
          "data": {
            "text/html": [
              "<div>\n",
              "<style scoped>\n",
              "    .dataframe tbody tr th:only-of-type {\n",
              "        vertical-align: middle;\n",
              "    }\n",
              "\n",
              "    .dataframe tbody tr th {\n",
              "        vertical-align: top;\n",
              "    }\n",
              "\n",
              "    .dataframe thead th {\n",
              "        text-align: right;\n",
              "    }\n",
              "</style>\n",
              "<table border=\"1\" class=\"dataframe\">\n",
              "  <thead>\n",
              "    <tr style=\"text-align: right;\">\n",
              "      <th></th>\n",
              "      <th>IncidentNumber</th>\n",
              "      <th>DateOfCall</th>\n",
              "      <th>CalYear</th>\n",
              "      <th>TimeOfCall</th>\n",
              "      <th>HourOfCall</th>\n",
              "      <th>IncidentGroup</th>\n",
              "      <th>StopCodeDescription</th>\n",
              "      <th>SpecialServiceType</th>\n",
              "      <th>PropertyCategory</th>\n",
              "      <th>PropertyType</th>\n",
              "      <th>AddressQualifier</th>\n",
              "      <th>IncGeo_BoroughCode</th>\n",
              "      <th>IncGeo_BoroughName</th>\n",
              "      <th>ProperCase</th>\n",
              "      <th>IncGeo_WardCode</th>\n",
              "      <th>IncGeo_WardName</th>\n",
              "      <th>IncGeo_WardNameNew</th>\n",
              "      <th>Easting_rounded</th>\n",
              "      <th>Northing_rounded</th>\n",
              "      <th>Latitude</th>\n",
              "      <th>Longitude</th>\n",
              "      <th>PumpHoursRoundUp</th>\n",
              "      <th>Longitude_new</th>\n",
              "      <th>Latitude_new</th>\n",
              "      <th>lng_diff</th>\n",
              "      <th>lat_diff</th>\n",
              "      <th>Month</th>\n",
              "      <th>MonthStr</th>\n",
              "      <th>DayOfWeek</th>\n",
              "      <th>DayOfWeekStr</th>\n",
              "      <th>DayOfMonth</th>\n",
              "      <th>DayOfYear</th>\n",
              "      <th>WeekOfMonth</th>\n",
              "      <th>WeekOfYear</th>\n",
              "    </tr>\n",
              "  </thead>\n",
              "  <tbody>\n",
              "    <tr>\n",
              "      <th>0</th>\n",
              "      <td>000298-01012017</td>\n",
              "      <td>2017-01-01</td>\n",
              "      <td>2017</td>\n",
              "      <td>14:17:24</td>\n",
              "      <td>14</td>\n",
              "      <td>False Alarm</td>\n",
              "      <td>False alarm - Good intent</td>\n",
              "      <td>missing_data</td>\n",
              "      <td>Non Residential</td>\n",
              "      <td>Restaurant/cafe</td>\n",
              "      <td>Correct incident location</td>\n",
              "      <td>E09000031</td>\n",
              "      <td>WALTHAM FOREST</td>\n",
              "      <td>Waltham Forest</td>\n",
              "      <td>E05000593</td>\n",
              "      <td>CHINGFORD GREEN</td>\n",
              "      <td>CHINGFORD GREEN</td>\n",
              "      <td>539650</td>\n",
              "      <td>194750</td>\n",
              "      <td>51.634359</td>\n",
              "      <td>0.016468</td>\n",
              "      <td>1.0</td>\n",
              "      <td>0.016477</td>\n",
              "      <td>51.634233</td>\n",
              "      <td>-0.000009</td>\n",
              "      <td>0.000126</td>\n",
              "      <td>1</td>\n",
              "      <td>January</td>\n",
              "      <td>7</td>\n",
              "      <td>Sunday</td>\n",
              "      <td>1</td>\n",
              "      <td>1</td>\n",
              "      <td>1</td>\n",
              "      <td>52</td>\n",
              "    </tr>\n",
              "    <tr>\n",
              "      <th>1</th>\n",
              "      <td>000051-01012017</td>\n",
              "      <td>2017-01-01</td>\n",
              "      <td>2017</td>\n",
              "      <td>00:50:06</td>\n",
              "      <td>0</td>\n",
              "      <td>Fire</td>\n",
              "      <td>Secondary Fire</td>\n",
              "      <td>missing_data</td>\n",
              "      <td>Outdoor Structure</td>\n",
              "      <td>Small refuse/rubbish container</td>\n",
              "      <td>In street outside gazetteer location</td>\n",
              "      <td>E09000025</td>\n",
              "      <td>NEWHAM</td>\n",
              "      <td>Newham</td>\n",
              "      <td>E05000476</td>\n",
              "      <td>BOLEYN</td>\n",
              "      <td>BOLEYN</td>\n",
              "      <td>541750</td>\n",
              "      <td>182750</td>\n",
              "      <td>51.525937</td>\n",
              "      <td>0.041286</td>\n",
              "      <td>1.0</td>\n",
              "      <td>0.041961</td>\n",
              "      <td>51.525880</td>\n",
              "      <td>-0.000675</td>\n",
              "      <td>0.000057</td>\n",
              "      <td>1</td>\n",
              "      <td>January</td>\n",
              "      <td>7</td>\n",
              "      <td>Sunday</td>\n",
              "      <td>1</td>\n",
              "      <td>1</td>\n",
              "      <td>1</td>\n",
              "      <td>52</td>\n",
              "    </tr>\n",
              "    <tr>\n",
              "      <th>2</th>\n",
              "      <td>000429-01012017</td>\n",
              "      <td>2017-01-01</td>\n",
              "      <td>2017</td>\n",
              "      <td>21:00:49</td>\n",
              "      <td>21</td>\n",
              "      <td>False Alarm</td>\n",
              "      <td>AFA</td>\n",
              "      <td>missing_data</td>\n",
              "      <td>Non Residential</td>\n",
              "      <td>Pub/wine bar/bar</td>\n",
              "      <td>Correct incident location</td>\n",
              "      <td>E09000028</td>\n",
              "      <td>SOUTHWARK</td>\n",
              "      <td>Southwark</td>\n",
              "      <td>E05011103</td>\n",
              "      <td>Goose Green</td>\n",
              "      <td>Goose Green</td>\n",
              "      <td>534150</td>\n",
              "      <td>175650</td>\n",
              "      <td>51.463855</td>\n",
              "      <td>-0.070499</td>\n",
              "      <td>1.0</td>\n",
              "      <td>-0.070222</td>\n",
              "      <td>51.463932</td>\n",
              "      <td>-0.000277</td>\n",
              "      <td>-0.000076</td>\n",
              "      <td>1</td>\n",
              "      <td>January</td>\n",
              "      <td>7</td>\n",
              "      <td>Sunday</td>\n",
              "      <td>1</td>\n",
              "      <td>1</td>\n",
              "      <td>1</td>\n",
              "      <td>52</td>\n",
              "    </tr>\n",
              "  </tbody>\n",
              "</table>\n",
              "</div>"
            ],
            "text/plain": [
              "    IncidentNumber DateOfCall  CalYear  ... DayOfYear  WeekOfMonth WeekOfYear\n",
              "0  000298-01012017 2017-01-01     2017  ...         1            1         52\n",
              "1  000051-01012017 2017-01-01     2017  ...         1            1         52\n",
              "2  000429-01012017 2017-01-01     2017  ...         1            1         52\n",
              "\n",
              "[3 rows x 34 columns]"
            ]
          },
          "metadata": {
            "tags": []
          },
          "execution_count": 32
        }
      ]
    },
    {
      "cell_type": "code",
      "metadata": {
        "colab": {
          "base_uri": "https://localhost:8080/"
        },
        "id": "lsCHfAlMo_iK",
        "outputId": "21ea6109-3383-42d3-af03-f574d960f560"
      },
      "source": [
        "myBag[\"last_filtered_df\"].describe()"
      ],
      "execution_count": null,
      "outputs": [
        {
          "output_type": "execute_result",
          "data": {
            "text/html": [
              "<div>\n",
              "<style scoped>\n",
              "    .dataframe tbody tr th:only-of-type {\n",
              "        vertical-align: middle;\n",
              "    }\n",
              "\n",
              "    .dataframe tbody tr th {\n",
              "        vertical-align: top;\n",
              "    }\n",
              "\n",
              "    .dataframe thead th {\n",
              "        text-align: right;\n",
              "    }\n",
              "</style>\n",
              "<table border=\"1\" class=\"dataframe\">\n",
              "  <thead>\n",
              "    <tr style=\"text-align: right;\">\n",
              "      <th></th>\n",
              "      <th>CalYear</th>\n",
              "      <th>HourOfCall</th>\n",
              "      <th>Easting_rounded</th>\n",
              "      <th>Northing_rounded</th>\n",
              "      <th>Latitude</th>\n",
              "      <th>Longitude</th>\n",
              "      <th>PumpHoursRoundUp</th>\n",
              "      <th>Longitude_new</th>\n",
              "      <th>Latitude_new</th>\n",
              "      <th>lng_diff</th>\n",
              "      <th>lat_diff</th>\n",
              "      <th>Month</th>\n",
              "      <th>DayOfWeek</th>\n",
              "      <th>DayOfMonth</th>\n",
              "      <th>DayOfYear</th>\n",
              "      <th>WeekOfMonth</th>\n",
              "      <th>WeekOfYear</th>\n",
              "    </tr>\n",
              "  </thead>\n",
              "  <tbody>\n",
              "    <tr>\n",
              "      <th>count</th>\n",
              "      <td>420243.000000</td>\n",
              "      <td>420243.000000</td>\n",
              "      <td>420243.000000</td>\n",
              "      <td>420243.000000</td>\n",
              "      <td>420243.000000</td>\n",
              "      <td>420243.000000</td>\n",
              "      <td>420243.00000</td>\n",
              "      <td>420243.000000</td>\n",
              "      <td>420243.000000</td>\n",
              "      <td>420243.000000</td>\n",
              "      <td>4.202430e+05</td>\n",
              "      <td>420243.000000</td>\n",
              "      <td>420243.000000</td>\n",
              "      <td>420243.000000</td>\n",
              "      <td>420243.000000</td>\n",
              "      <td>420243.000000</td>\n",
              "      <td>420243.000000</td>\n",
              "    </tr>\n",
              "    <tr>\n",
              "      <th>mean</th>\n",
              "      <td>2018.523906</td>\n",
              "      <td>13.469257</td>\n",
              "      <td>530670.990950</td>\n",
              "      <td>180522.519709</td>\n",
              "      <td>25.309680</td>\n",
              "      <td>-0.058401</td>\n",
              "      <td>1.36718</td>\n",
              "      <td>-0.118467</td>\n",
              "      <td>51.508449</td>\n",
              "      <td>-0.000001</td>\n",
              "      <td>-8.890706e-07</td>\n",
              "      <td>6.518112</td>\n",
              "      <td>4.029916</td>\n",
              "      <td>15.714265</td>\n",
              "      <td>182.950226</td>\n",
              "      <td>2.698936</td>\n",
              "      <td>26.661943</td>\n",
              "    </tr>\n",
              "    <tr>\n",
              "      <th>std</th>\n",
              "      <td>1.146158</td>\n",
              "      <td>6.247467</td>\n",
              "      <td>9733.341425</td>\n",
              "      <td>7395.221092</td>\n",
              "      <td>25.749920</td>\n",
              "      <td>0.120250</td>\n",
              "      <td>6.87147</td>\n",
              "      <td>0.140354</td>\n",
              "      <td>0.066378</td>\n",
              "      <td>0.000292</td>\n",
              "      <td>1.819033e-04</td>\n",
              "      <td>3.427202</td>\n",
              "      <td>1.996717</td>\n",
              "      <td>8.827325</td>\n",
              "      <td>104.663041</td>\n",
              "      <td>1.271662</td>\n",
              "      <td>14.965223</td>\n",
              "    </tr>\n",
              "    <tr>\n",
              "      <th>min</th>\n",
              "      <td>2017.000000</td>\n",
              "      <td>0.000000</td>\n",
              "      <td>503550.000000</td>\n",
              "      <td>155950.000000</td>\n",
              "      <td>0.000000</td>\n",
              "      <td>-0.510155</td>\n",
              "      <td>0.00000</td>\n",
              "      <td>-0.510603</td>\n",
              "      <td>51.287661</td>\n",
              "      <td>-0.002579</td>\n",
              "      <td>-2.682881e-03</td>\n",
              "      <td>1.000000</td>\n",
              "      <td>1.000000</td>\n",
              "      <td>1.000000</td>\n",
              "      <td>1.000000</td>\n",
              "      <td>1.000000</td>\n",
              "      <td>1.000000</td>\n",
              "    </tr>\n",
              "    <tr>\n",
              "      <th>25%</th>\n",
              "      <td>2018.000000</td>\n",
              "      <td>9.000000</td>\n",
              "      <td>525150.000000</td>\n",
              "      <td>176150.000000</td>\n",
              "      <td>0.000000</td>\n",
              "      <td>-0.114471</td>\n",
              "      <td>1.00000</td>\n",
              "      <td>-0.197396</td>\n",
              "      <td>51.469474</td>\n",
              "      <td>0.000000</td>\n",
              "      <td>0.000000e+00</td>\n",
              "      <td>4.000000</td>\n",
              "      <td>2.000000</td>\n",
              "      <td>8.000000</td>\n",
              "      <td>93.000000</td>\n",
              "      <td>2.000000</td>\n",
              "      <td>14.000000</td>\n",
              "    </tr>\n",
              "    <tr>\n",
              "      <th>50%</th>\n",
              "      <td>2019.000000</td>\n",
              "      <td>14.000000</td>\n",
              "      <td>530950.000000</td>\n",
              "      <td>181050.000000</td>\n",
              "      <td>0.000000</td>\n",
              "      <td>0.000000</td>\n",
              "      <td>1.00000</td>\n",
              "      <td>-0.115098</td>\n",
              "      <td>51.513712</td>\n",
              "      <td>0.000000</td>\n",
              "      <td>0.000000e+00</td>\n",
              "      <td>7.000000</td>\n",
              "      <td>4.000000</td>\n",
              "      <td>16.000000</td>\n",
              "      <td>185.000000</td>\n",
              "      <td>3.000000</td>\n",
              "      <td>27.000000</td>\n",
              "    </tr>\n",
              "    <tr>\n",
              "      <th>75%</th>\n",
              "      <td>2020.000000</td>\n",
              "      <td>19.000000</td>\n",
              "      <td>536350.000000</td>\n",
              "      <td>185250.000000</td>\n",
              "      <td>51.512428</td>\n",
              "      <td>0.000000</td>\n",
              "      <td>1.00000</td>\n",
              "      <td>-0.035624</td>\n",
              "      <td>51.550930</td>\n",
              "      <td>0.000000</td>\n",
              "      <td>0.000000e+00</td>\n",
              "      <td>9.000000</td>\n",
              "      <td>6.000000</td>\n",
              "      <td>23.000000</td>\n",
              "      <td>272.000000</td>\n",
              "      <td>4.000000</td>\n",
              "      <td>39.000000</td>\n",
              "    </tr>\n",
              "    <tr>\n",
              "      <th>max</th>\n",
              "      <td>2021.000000</td>\n",
              "      <td>23.000000</td>\n",
              "      <td>560250.000000</td>\n",
              "      <td>200850.000000</td>\n",
              "      <td>51.691568</td>\n",
              "      <td>0.310609</td>\n",
              "      <td>2163.00000</td>\n",
              "      <td>0.310604</td>\n",
              "      <td>51.691188</td>\n",
              "      <td>0.010164</td>\n",
              "      <td>2.453953e-03</td>\n",
              "      <td>12.000000</td>\n",
              "      <td>7.000000</td>\n",
              "      <td>31.000000</td>\n",
              "      <td>366.000000</td>\n",
              "      <td>5.000000</td>\n",
              "      <td>53.000000</td>\n",
              "    </tr>\n",
              "  </tbody>\n",
              "</table>\n",
              "</div>"
            ],
            "text/plain": [
              "             CalYear     HourOfCall  ...    WeekOfMonth     WeekOfYear\n",
              "count  420243.000000  420243.000000  ...  420243.000000  420243.000000\n",
              "mean     2018.523906      13.469257  ...       2.698936      26.661943\n",
              "std         1.146158       6.247467  ...       1.271662      14.965223\n",
              "min      2017.000000       0.000000  ...       1.000000       1.000000\n",
              "25%      2018.000000       9.000000  ...       2.000000      14.000000\n",
              "50%      2019.000000      14.000000  ...       3.000000      27.000000\n",
              "75%      2020.000000      19.000000  ...       4.000000      39.000000\n",
              "max      2021.000000      23.000000  ...       5.000000      53.000000\n",
              "\n",
              "[8 rows x 17 columns]"
            ]
          },
          "metadata": {
            "tags": []
          },
          "execution_count": 33
        }
      ]
    },
    {
      "cell_type": "markdown",
      "metadata": {
        "id": "kRk1QT2ssIT9"
      },
      "source": [
        "## Investigating duplicates"
      ]
    },
    {
      "cell_type": "code",
      "metadata": {
        "colab": {
          "base_uri": "https://localhost:8080/"
        },
        "id": "yQ7BoDgssLEt",
        "outputId": "30775ed3-e865-495c-a852-c832db81c6e7"
      },
      "source": [
        "myBag[\"last_filtered_df\"][\"IncidentNumber\"].duplicated().sum()"
      ],
      "execution_count": null,
      "outputs": [
        {
          "output_type": "execute_result",
          "data": {
            "text/plain": [
              "0"
            ]
          },
          "metadata": {
            "tags": []
          },
          "execution_count": 34
        }
      ]
    },
    {
      "cell_type": "markdown",
      "metadata": {
        "id": "U9tyWSvssjqt"
      },
      "source": [
        "## Investigating structural errors: checking for multiple representations of the same value"
      ]
    },
    {
      "cell_type": "code",
      "metadata": {
        "colab": {
          "base_uri": "https://localhost:8080/"
        },
        "id": "9613pwSVsi7c",
        "outputId": "a04c6689-2e1f-41b3-b563-234bc6d264ab"
      },
      "source": [
        "myBag[\"last_filtered_df\"].columns"
      ],
      "execution_count": null,
      "outputs": [
        {
          "output_type": "execute_result",
          "data": {
            "text/plain": [
              "Index(['IncidentNumber', 'DateOfCall', 'CalYear', 'TimeOfCall', 'HourOfCall',\n",
              "       'IncidentGroup', 'StopCodeDescription', 'SpecialServiceType',\n",
              "       'PropertyCategory', 'PropertyType', 'AddressQualifier',\n",
              "       'IncGeo_BoroughCode', 'IncGeo_BoroughName', 'ProperCase',\n",
              "       'IncGeo_WardCode', 'IncGeo_WardName', 'IncGeo_WardNameNew',\n",
              "       'Easting_rounded', 'Northing_rounded', 'Latitude', 'Longitude',\n",
              "       'PumpHoursRoundUp', 'Longitude_new', 'Latitude_new', 'lng_diff',\n",
              "       'lat_diff', 'Month', 'MonthStr', 'DayOfWeek', 'DayOfWeekStr',\n",
              "       'DayOfMonth', 'DayOfYear', 'WeekOfMonth', 'WeekOfYear'],\n",
              "      dtype='object')"
            ]
          },
          "metadata": {
            "tags": []
          },
          "execution_count": 35
        }
      ]
    },
    {
      "cell_type": "code",
      "metadata": {
        "id": "6WVfbs-9ukHw"
      },
      "source": [
        "columns_to_investigate = 'IncidentGroup,StopCodeDescription,IncGeo_BoroughName,ProperCase,'\r\n",
        "columns_to_investigate += 'IncGeo_WardName,IncGeo_WardNameNew'\r\n",
        "columns_to_investigate = columns_to_investigate.split(\",\")"
      ],
      "execution_count": null,
      "outputs": []
    },
    {
      "cell_type": "code",
      "metadata": {
        "id": "2mLF6BX6vFxP"
      },
      "source": [
        "def get_suspicious_values(df, columns_to_investigate, min_distance = 1, max_distance = 5):\r\n",
        "  dodgy_columns = {}\r\n",
        "  for col in columns_to_investigate:\r\n",
        "    dodgy_columns[col] = []\r\n",
        "    unique_values = df[col].unique().tolist()\r\n",
        "    while(len(unique_values)>2):\r\n",
        "      current_unique = unique_values.pop()\r\n",
        "      \r\n",
        "      for other_unique in unique_values:\r\n",
        "        distance = Levenshtein.distance(current_unique.strip(), other_unique.strip())\r\n",
        "        if(distance >= min_distance and distance <= max_distance):\r\n",
        "          dodgy_columns[col].append([current_unique, other_unique])\r\n",
        "  return dodgy_columns\r\n",
        "\r\n",
        "def find_nas(df, columns_to_investigate, na_strings = [\"applicable\", \"not applicable\",  \"na\", \"n\\.a\", \"missing\", \"nan\"]):\r\n",
        "  dodgy_columns = {}\r\n",
        "  for col in columns_to_investigate:\r\n",
        "    dodgy_columns[col] = []\r\n",
        "    unique_values = df[col].unique().tolist()\r\n",
        "    for current_unique in unique_values:\r\n",
        "      for na in na_strings:\r\n",
        "        result = re.search(re.compile(\".*\" + na.strip() + \".*\", re.IGNORECASE), current_unique.strip())\r\n",
        "        if(result is not None):\r\n",
        "          dodgy_columns[col].append([current_unique, na])\r\n",
        "  return dodgy_columns\r\n"
      ],
      "execution_count": null,
      "outputs": []
    },
    {
      "cell_type": "markdown",
      "metadata": {
        "id": "YFrCchLq4_cm"
      },
      "source": [
        "### Examining possible duplicates"
      ]
    },
    {
      "cell_type": "code",
      "metadata": {
        "colab": {
          "base_uri": "https://localhost:8080/"
        },
        "id": "iGsnBnaww8cj",
        "outputId": "ac587112-8230-42d4-c259-110ac39c7b5f"
      },
      "source": [
        "get_suspicious_values(myBag[\"last_filtered_df\"], columns_to_investigate, max_distance = 1)"
      ],
      "execution_count": null,
      "outputs": [
        {
          "output_type": "execute_result",
          "data": {
            "text/plain": [
              "{'IncGeo_BoroughName': [],\n",
              " 'IncGeo_WardName': [['CRAYFORD', 'CRANFORD'],\n",
              "  ['CHADWELL', 'SHADWELL'],\n",
              "  ['CHEAP', 'CHEAM'],\n",
              "  ['BROAD STREET', 'BREAD STREET'],\n",
              "  ['SOUTHFIELD', 'SOUTHFIELDS'],\n",
              "  ['ELTHAM NORTH', 'FELTHAM NORTH'],\n",
              "  ['ELTHAM WEST', 'FELTHAM WEST'],\n",
              "  [\"ST. MARY'S\", \"ST. MARK'S\"],\n",
              "  [\"QUEEN'S PARK\", 'QUEENS PARK']],\n",
              " 'IncGeo_WardNameNew': [['CRAYFORD', 'CRANFORD'],\n",
              "  ['CHADWELL', 'SHADWELL'],\n",
              "  ['CHEAP', 'CHEAM'],\n",
              "  ['BROAD STREET', 'BREAD STREET'],\n",
              "  ['SOUTHFIELD', 'SOUTHFIELDS'],\n",
              "  ['ELTHAM NORTH', 'FELTHAM NORTH'],\n",
              "  ['ELTHAM WEST', 'FELTHAM WEST'],\n",
              "  [\"ST. MARY'S\", \"ST. MARK'S\"],\n",
              "  [\"QUEEN'S PARK\", 'QUEENS PARK']],\n",
              " 'IncidentGroup': [],\n",
              " 'ProperCase': [],\n",
              " 'StopCodeDescription': []}"
            ]
          },
          "metadata": {
            "tags": []
          },
          "execution_count": 38
        }
      ]
    },
    {
      "cell_type": "markdown",
      "metadata": {
        "id": "Mtme2k3r2LlV"
      },
      "source": [
        "### Investigating further the possible duplicates\r\n",
        "The ones that might be problematic:\r\n",
        "- 'CHEAP' and 'CHEAM'\r\n",
        "- \"QUEEN'S PARK\" and 'QUEENS PARK'\r\n",
        "- 'SOUTHFIELD', 'SOUTHFIELDS'\r\n"
      ]
    },
    {
      "cell_type": "markdown",
      "metadata": {
        "id": "LnZn0SAR4Eow"
      },
      "source": [
        "#### 'CHEAP' and 'CHEAM'"
      ]
    },
    {
      "cell_type": "code",
      "metadata": {
        "colab": {
          "base_uri": "https://localhost:8080/"
        },
        "id": "erqfZJS1219Y",
        "outputId": "9a498a12-9cb5-4038-fa43-921300eacedc"
      },
      "source": [
        "myBag[\"last_filtered_df\"]\\\r\n",
        "[(myBag[\"last_filtered_df\"][\"IncGeo_WardName\"] == \"CHEAP\") | (myBag[\"last_filtered_df\"][\"IncGeo_WardName\"] == \"CHEAM\") ]\\\r\n",
        "[[\"IncGeo_BoroughName\", \"IncGeo_WardName\"]].head(3)"
      ],
      "execution_count": null,
      "outputs": [
        {
          "output_type": "execute_result",
          "data": {
            "text/html": [
              "<div>\n",
              "<style scoped>\n",
              "    .dataframe tbody tr th:only-of-type {\n",
              "        vertical-align: middle;\n",
              "    }\n",
              "\n",
              "    .dataframe tbody tr th {\n",
              "        vertical-align: top;\n",
              "    }\n",
              "\n",
              "    .dataframe thead th {\n",
              "        text-align: right;\n",
              "    }\n",
              "</style>\n",
              "<table border=\"1\" class=\"dataframe\">\n",
              "  <thead>\n",
              "    <tr style=\"text-align: right;\">\n",
              "      <th></th>\n",
              "      <th>IncGeo_BoroughName</th>\n",
              "      <th>IncGeo_WardName</th>\n",
              "    </tr>\n",
              "  </thead>\n",
              "  <tbody>\n",
              "    <tr>\n",
              "      <th>167</th>\n",
              "      <td>SUTTON</td>\n",
              "      <td>CHEAM</td>\n",
              "    </tr>\n",
              "    <tr>\n",
              "      <th>577</th>\n",
              "      <td>SUTTON</td>\n",
              "      <td>CHEAM</td>\n",
              "    </tr>\n",
              "    <tr>\n",
              "      <th>773</th>\n",
              "      <td>SUTTON</td>\n",
              "      <td>CHEAM</td>\n",
              "    </tr>\n",
              "  </tbody>\n",
              "</table>\n",
              "</div>"
            ],
            "text/plain": [
              "    IncGeo_BoroughName IncGeo_WardName\n",
              "167             SUTTON           CHEAM\n",
              "577             SUTTON           CHEAM\n",
              "773             SUTTON           CHEAM"
            ]
          },
          "metadata": {
            "tags": []
          },
          "execution_count": 39
        }
      ]
    },
    {
      "cell_type": "code",
      "metadata": {
        "colab": {
          "base_uri": "https://localhost:8080/"
        },
        "id": "TZ9ZaPLV3lKe",
        "outputId": "f4638f50-d603-4d8c-a27e-cef0658244e3"
      },
      "source": [
        "myBag[\"last_filtered_df\"][myBag[\"last_filtered_df\"][\"IncGeo_WardName\"] == \"CHEAP\"][\"IncGeo_BoroughName\"].unique()"
      ],
      "execution_count": null,
      "outputs": [
        {
          "output_type": "execute_result",
          "data": {
            "text/plain": [
              "array(['CITY OF LONDON'], dtype=object)"
            ]
          },
          "metadata": {
            "tags": []
          },
          "execution_count": 40
        }
      ]
    },
    {
      "cell_type": "code",
      "metadata": {
        "colab": {
          "base_uri": "https://localhost:8080/"
        },
        "id": "vtIVvAma3vag",
        "outputId": "19197e9e-370b-4e17-ac6c-bcc2914dad70"
      },
      "source": [
        "myBag[\"last_filtered_df\"][myBag[\"last_filtered_df\"][\"IncGeo_WardName\"] == \"CHEAM\"][\"IncGeo_BoroughName\"].unique()"
      ],
      "execution_count": null,
      "outputs": [
        {
          "output_type": "execute_result",
          "data": {
            "text/plain": [
              "array(['SUTTON'], dtype=object)"
            ]
          },
          "metadata": {
            "tags": []
          },
          "execution_count": 41
        }
      ]
    },
    {
      "cell_type": "code",
      "metadata": {
        "colab": {
          "base_uri": "https://localhost:8080/"
        },
        "id": "DVYbxUIY3SWS",
        "outputId": "1cad4bc4-73cc-4465-ed40-cade244599f8"
      },
      "source": [
        "myBag[\"last_filtered_df\"]\\\r\n",
        "[(myBag[\"last_filtered_df\"][\"IncGeo_WardName\"] == \"QUEEN'S PARK\") | (myBag[\"last_filtered_df\"][\"IncGeo_WardName\"] ==  'QUEENS PARK') ]\\\r\n",
        "[[\"IncGeo_BoroughName\", \"IncGeo_WardName\"]].head(3)"
      ],
      "execution_count": null,
      "outputs": [
        {
          "output_type": "execute_result",
          "data": {
            "text/html": [
              "<div>\n",
              "<style scoped>\n",
              "    .dataframe tbody tr th:only-of-type {\n",
              "        vertical-align: middle;\n",
              "    }\n",
              "\n",
              "    .dataframe tbody tr th {\n",
              "        vertical-align: top;\n",
              "    }\n",
              "\n",
              "    .dataframe thead th {\n",
              "        text-align: right;\n",
              "    }\n",
              "</style>\n",
              "<table border=\"1\" class=\"dataframe\">\n",
              "  <thead>\n",
              "    <tr style=\"text-align: right;\">\n",
              "      <th></th>\n",
              "      <th>IncGeo_BoroughName</th>\n",
              "      <th>IncGeo_WardName</th>\n",
              "    </tr>\n",
              "  </thead>\n",
              "  <tbody>\n",
              "    <tr>\n",
              "      <th>140</th>\n",
              "      <td>BRENT</td>\n",
              "      <td>QUEENS PARK</td>\n",
              "    </tr>\n",
              "    <tr>\n",
              "      <th>443</th>\n",
              "      <td>WESTMINSTER</td>\n",
              "      <td>QUEEN'S PARK</td>\n",
              "    </tr>\n",
              "    <tr>\n",
              "      <th>1052</th>\n",
              "      <td>WESTMINSTER</td>\n",
              "      <td>QUEEN'S PARK</td>\n",
              "    </tr>\n",
              "  </tbody>\n",
              "</table>\n",
              "</div>"
            ],
            "text/plain": [
              "     IncGeo_BoroughName IncGeo_WardName\n",
              "140               BRENT     QUEENS PARK\n",
              "443         WESTMINSTER    QUEEN'S PARK\n",
              "1052        WESTMINSTER    QUEEN'S PARK"
            ]
          },
          "metadata": {
            "tags": []
          },
          "execution_count": 42
        }
      ]
    },
    {
      "cell_type": "markdown",
      "metadata": {
        "id": "uKYB4NVJ4Iou"
      },
      "source": [
        "#### \"QUEEN'S PARK\" and 'QUEENS PARK'"
      ]
    },
    {
      "cell_type": "code",
      "metadata": {
        "colab": {
          "base_uri": "https://localhost:8080/"
        },
        "id": "T18SGTXT318g",
        "outputId": "f822bedc-91a7-48e2-e168-572db105e4cc"
      },
      "source": [
        "myBag[\"last_filtered_df\"][myBag[\"last_filtered_df\"][\"IncGeo_WardName\"] == 'QUEENS PARK'][\"IncGeo_BoroughName\"].unique()"
      ],
      "execution_count": null,
      "outputs": [
        {
          "output_type": "execute_result",
          "data": {
            "text/plain": [
              "array(['BRENT'], dtype=object)"
            ]
          },
          "metadata": {
            "tags": []
          },
          "execution_count": 43
        }
      ]
    },
    {
      "cell_type": "code",
      "metadata": {
        "colab": {
          "base_uri": "https://localhost:8080/"
        },
        "id": "cImUgzER35-6",
        "outputId": "0d2bba52-71f1-4d43-c1a8-b23c3d76669d"
      },
      "source": [
        "myBag[\"last_filtered_df\"][myBag[\"last_filtered_df\"][\"IncGeo_WardName\"] == \"QUEEN'S PARK\"][\"IncGeo_BoroughName\"].unique()"
      ],
      "execution_count": null,
      "outputs": [
        {
          "output_type": "execute_result",
          "data": {
            "text/plain": [
              "array(['WESTMINSTER'], dtype=object)"
            ]
          },
          "metadata": {
            "tags": []
          },
          "execution_count": 44
        }
      ]
    },
    {
      "cell_type": "markdown",
      "metadata": {
        "id": "dTw787cR4Kix"
      },
      "source": [
        "#### 'SOUTHFIELD', 'SOUTHFIELDS'"
      ]
    },
    {
      "cell_type": "code",
      "metadata": {
        "colab": {
          "base_uri": "https://localhost:8080/"
        },
        "id": "YrYTLKWk4SSQ",
        "outputId": "4b039c63-484d-4d4a-c52c-b08af9aa12d0"
      },
      "source": [
        "myBag[\"last_filtered_df\"]\\\r\n",
        "[(myBag[\"last_filtered_df\"][\"IncGeo_WardName\"] == \"SOUTHFIELD\") | (myBag[\"last_filtered_df\"][\"IncGeo_WardName\"] ==  'SOUTHFIELDS') ]\\\r\n",
        "[[\"IncGeo_BoroughName\", \"IncGeo_WardName\"]].head(3)"
      ],
      "execution_count": null,
      "outputs": [
        {
          "output_type": "execute_result",
          "data": {
            "text/html": [
              "<div>\n",
              "<style scoped>\n",
              "    .dataframe tbody tr th:only-of-type {\n",
              "        vertical-align: middle;\n",
              "    }\n",
              "\n",
              "    .dataframe tbody tr th {\n",
              "        vertical-align: top;\n",
              "    }\n",
              "\n",
              "    .dataframe thead th {\n",
              "        text-align: right;\n",
              "    }\n",
              "</style>\n",
              "<table border=\"1\" class=\"dataframe\">\n",
              "  <thead>\n",
              "    <tr style=\"text-align: right;\">\n",
              "      <th></th>\n",
              "      <th>IncGeo_BoroughName</th>\n",
              "      <th>IncGeo_WardName</th>\n",
              "    </tr>\n",
              "  </thead>\n",
              "  <tbody>\n",
              "    <tr>\n",
              "      <th>257</th>\n",
              "      <td>WANDSWORTH</td>\n",
              "      <td>SOUTHFIELDS</td>\n",
              "    </tr>\n",
              "    <tr>\n",
              "      <th>1327</th>\n",
              "      <td>WANDSWORTH</td>\n",
              "      <td>SOUTHFIELDS</td>\n",
              "    </tr>\n",
              "    <tr>\n",
              "      <th>2533</th>\n",
              "      <td>WANDSWORTH</td>\n",
              "      <td>SOUTHFIELDS</td>\n",
              "    </tr>\n",
              "  </tbody>\n",
              "</table>\n",
              "</div>"
            ],
            "text/plain": [
              "     IncGeo_BoroughName IncGeo_WardName\n",
              "257          WANDSWORTH     SOUTHFIELDS\n",
              "1327         WANDSWORTH     SOUTHFIELDS\n",
              "2533         WANDSWORTH     SOUTHFIELDS"
            ]
          },
          "metadata": {
            "tags": []
          },
          "execution_count": 45
        }
      ]
    },
    {
      "cell_type": "code",
      "metadata": {
        "colab": {
          "base_uri": "https://localhost:8080/"
        },
        "id": "W_tPN9ve4ZJl",
        "outputId": "635d4c62-3b3a-4259-fc95-12cdec91a8f1"
      },
      "source": [
        "myBag[\"last_filtered_df\"][myBag[\"last_filtered_df\"][\"IncGeo_WardName\"] == 'SOUTHFIELD'][\"IncGeo_BoroughName\"].unique()"
      ],
      "execution_count": null,
      "outputs": [
        {
          "output_type": "execute_result",
          "data": {
            "text/plain": [
              "array(['EALING'], dtype=object)"
            ]
          },
          "metadata": {
            "tags": []
          },
          "execution_count": 46
        }
      ]
    },
    {
      "cell_type": "code",
      "metadata": {
        "colab": {
          "base_uri": "https://localhost:8080/"
        },
        "id": "FyAuFbn14ZJr",
        "outputId": "a146c040-a9c4-43cd-d456-dc50c9d9637d"
      },
      "source": [
        "myBag[\"last_filtered_df\"][myBag[\"last_filtered_df\"][\"IncGeo_WardName\"] == \"SOUTHFIELDS\"][\"IncGeo_BoroughName\"].unique()"
      ],
      "execution_count": null,
      "outputs": [
        {
          "output_type": "execute_result",
          "data": {
            "text/plain": [
              "array(['WANDSWORTH'], dtype=object)"
            ]
          },
          "metadata": {
            "tags": []
          },
          "execution_count": 47
        }
      ]
    },
    {
      "cell_type": "markdown",
      "metadata": {
        "id": "ZuqwdaE44eGa"
      },
      "source": [
        "### Investigating \"N.A\""
      ]
    },
    {
      "cell_type": "code",
      "metadata": {
        "colab": {
          "base_uri": "https://localhost:8080/"
        },
        "id": "_ksWUC5gyvVW",
        "outputId": "e8e78006-305c-4c09-fe1b-2d4d7b255fda"
      },
      "source": [
        "find_nas(myBag[\"last_filtered_df\"], columns_to_investigate)"
      ],
      "execution_count": null,
      "outputs": [
        {
          "output_type": "execute_result",
          "data": {
            "text/plain": [
              "{'IncGeo_BoroughName': [],\n",
              " 'IncGeo_WardName': [[\"ST. LEONARD'S\", 'na'],\n",
              "  ['CASTLE BAYNARD', 'na'],\n",
              "  ['FROGNAL AND FITZJOHNS', 'na'],\n",
              "  ['Hainault', 'na'],\n",
              "  ['CANARY WHARF', 'na'],\n",
              "  ['DUNDONALD', 'na'],\n",
              "  ['BETHNAL GREEN', 'na'],\n",
              "  ['SNARESBROOK', 'na'],\n",
              "  ['Castle Baynard', 'na'],\n",
              "  ['HAINAULT', 'na']],\n",
              " 'IncGeo_WardNameNew': [[\"ST. LEONARD'S\", 'na'],\n",
              "  ['CASTLE BAYNARD', 'na'],\n",
              "  ['FROGNAL AND FITZJOHNS', 'na'],\n",
              "  ['Hainault', 'na'],\n",
              "  ['CANARY WHARF', 'na'],\n",
              "  ['DUNDONALD', 'na'],\n",
              "  ['BETHNAL GREEN', 'na'],\n",
              "  ['SNARESBROOK', 'na'],\n",
              "  ['Castle Baynard', 'na'],\n",
              "  ['HAINAULT', 'na']],\n",
              " 'IncidentGroup': [],\n",
              " 'ProperCase': [],\n",
              " 'StopCodeDescription': []}"
            ]
          },
          "metadata": {
            "tags": []
          },
          "execution_count": 48
        }
      ]
    },
    {
      "cell_type": "markdown",
      "metadata": {
        "id": "4XN-5ZCQTrqo"
      },
      "source": [
        "## Dropping columns that are not needed #2"
      ]
    },
    {
      "cell_type": "code",
      "metadata": {
        "colab": {
          "base_uri": "https://localhost:8080/",
          "height": 227
        },
        "id": "fRs5bAJhUvbY",
        "outputId": "0d4047e5-d6d2-49c6-8cb5-cc0ca1632ce8"
      },
      "source": [
        "myBag[\"last_filtered_df\"].head(3)"
      ],
      "execution_count": null,
      "outputs": [
        {
          "output_type": "execute_result",
          "data": {
            "text/html": [
              "<div>\n",
              "<style scoped>\n",
              "    .dataframe tbody tr th:only-of-type {\n",
              "        vertical-align: middle;\n",
              "    }\n",
              "\n",
              "    .dataframe tbody tr th {\n",
              "        vertical-align: top;\n",
              "    }\n",
              "\n",
              "    .dataframe thead th {\n",
              "        text-align: right;\n",
              "    }\n",
              "</style>\n",
              "<table border=\"1\" class=\"dataframe\">\n",
              "  <thead>\n",
              "    <tr style=\"text-align: right;\">\n",
              "      <th></th>\n",
              "      <th>IncidentNumber</th>\n",
              "      <th>DateOfCall</th>\n",
              "      <th>CalYear</th>\n",
              "      <th>TimeOfCall</th>\n",
              "      <th>HourOfCall</th>\n",
              "      <th>IncidentGroup</th>\n",
              "      <th>StopCodeDescription</th>\n",
              "      <th>SpecialServiceType</th>\n",
              "      <th>PropertyCategory</th>\n",
              "      <th>PropertyType</th>\n",
              "      <th>AddressQualifier</th>\n",
              "      <th>IncGeo_BoroughCode</th>\n",
              "      <th>IncGeo_BoroughName</th>\n",
              "      <th>ProperCase</th>\n",
              "      <th>IncGeo_WardCode</th>\n",
              "      <th>IncGeo_WardName</th>\n",
              "      <th>IncGeo_WardNameNew</th>\n",
              "      <th>Easting_rounded</th>\n",
              "      <th>Northing_rounded</th>\n",
              "      <th>Latitude</th>\n",
              "      <th>Longitude</th>\n",
              "      <th>PumpHoursRoundUp</th>\n",
              "      <th>Longitude_new</th>\n",
              "      <th>Latitude_new</th>\n",
              "      <th>lng_diff</th>\n",
              "      <th>lat_diff</th>\n",
              "      <th>Month</th>\n",
              "      <th>MonthStr</th>\n",
              "      <th>DayOfWeek</th>\n",
              "      <th>DayOfWeekStr</th>\n",
              "      <th>DayOfMonth</th>\n",
              "      <th>DayOfYear</th>\n",
              "      <th>WeekOfMonth</th>\n",
              "      <th>WeekOfYear</th>\n",
              "    </tr>\n",
              "  </thead>\n",
              "  <tbody>\n",
              "    <tr>\n",
              "      <th>0</th>\n",
              "      <td>000298-01012017</td>\n",
              "      <td>2017-01-01</td>\n",
              "      <td>2017</td>\n",
              "      <td>14:17:24</td>\n",
              "      <td>14</td>\n",
              "      <td>False Alarm</td>\n",
              "      <td>False alarm - Good intent</td>\n",
              "      <td>missing_data</td>\n",
              "      <td>Non Residential</td>\n",
              "      <td>Restaurant/cafe</td>\n",
              "      <td>Correct incident location</td>\n",
              "      <td>E09000031</td>\n",
              "      <td>WALTHAM FOREST</td>\n",
              "      <td>Waltham Forest</td>\n",
              "      <td>E05000593</td>\n",
              "      <td>CHINGFORD GREEN</td>\n",
              "      <td>CHINGFORD GREEN</td>\n",
              "      <td>539650</td>\n",
              "      <td>194750</td>\n",
              "      <td>51.634359</td>\n",
              "      <td>0.016468</td>\n",
              "      <td>1.0</td>\n",
              "      <td>0.016477</td>\n",
              "      <td>51.634233</td>\n",
              "      <td>-0.000009</td>\n",
              "      <td>0.000126</td>\n",
              "      <td>1</td>\n",
              "      <td>January</td>\n",
              "      <td>7</td>\n",
              "      <td>Sunday</td>\n",
              "      <td>1</td>\n",
              "      <td>1</td>\n",
              "      <td>1</td>\n",
              "      <td>52</td>\n",
              "    </tr>\n",
              "    <tr>\n",
              "      <th>1</th>\n",
              "      <td>000051-01012017</td>\n",
              "      <td>2017-01-01</td>\n",
              "      <td>2017</td>\n",
              "      <td>00:50:06</td>\n",
              "      <td>0</td>\n",
              "      <td>Fire</td>\n",
              "      <td>Secondary Fire</td>\n",
              "      <td>missing_data</td>\n",
              "      <td>Outdoor Structure</td>\n",
              "      <td>Small refuse/rubbish container</td>\n",
              "      <td>In street outside gazetteer location</td>\n",
              "      <td>E09000025</td>\n",
              "      <td>NEWHAM</td>\n",
              "      <td>Newham</td>\n",
              "      <td>E05000476</td>\n",
              "      <td>BOLEYN</td>\n",
              "      <td>BOLEYN</td>\n",
              "      <td>541750</td>\n",
              "      <td>182750</td>\n",
              "      <td>51.525937</td>\n",
              "      <td>0.041286</td>\n",
              "      <td>1.0</td>\n",
              "      <td>0.041961</td>\n",
              "      <td>51.525880</td>\n",
              "      <td>-0.000675</td>\n",
              "      <td>0.000057</td>\n",
              "      <td>1</td>\n",
              "      <td>January</td>\n",
              "      <td>7</td>\n",
              "      <td>Sunday</td>\n",
              "      <td>1</td>\n",
              "      <td>1</td>\n",
              "      <td>1</td>\n",
              "      <td>52</td>\n",
              "    </tr>\n",
              "    <tr>\n",
              "      <th>2</th>\n",
              "      <td>000429-01012017</td>\n",
              "      <td>2017-01-01</td>\n",
              "      <td>2017</td>\n",
              "      <td>21:00:49</td>\n",
              "      <td>21</td>\n",
              "      <td>False Alarm</td>\n",
              "      <td>AFA</td>\n",
              "      <td>missing_data</td>\n",
              "      <td>Non Residential</td>\n",
              "      <td>Pub/wine bar/bar</td>\n",
              "      <td>Correct incident location</td>\n",
              "      <td>E09000028</td>\n",
              "      <td>SOUTHWARK</td>\n",
              "      <td>Southwark</td>\n",
              "      <td>E05011103</td>\n",
              "      <td>Goose Green</td>\n",
              "      <td>Goose Green</td>\n",
              "      <td>534150</td>\n",
              "      <td>175650</td>\n",
              "      <td>51.463855</td>\n",
              "      <td>-0.070499</td>\n",
              "      <td>1.0</td>\n",
              "      <td>-0.070222</td>\n",
              "      <td>51.463932</td>\n",
              "      <td>-0.000277</td>\n",
              "      <td>-0.000076</td>\n",
              "      <td>1</td>\n",
              "      <td>January</td>\n",
              "      <td>7</td>\n",
              "      <td>Sunday</td>\n",
              "      <td>1</td>\n",
              "      <td>1</td>\n",
              "      <td>1</td>\n",
              "      <td>52</td>\n",
              "    </tr>\n",
              "  </tbody>\n",
              "</table>\n",
              "</div>"
            ],
            "text/plain": [
              "    IncidentNumber DateOfCall  CalYear  ... DayOfYear  WeekOfMonth WeekOfYear\n",
              "0  000298-01012017 2017-01-01     2017  ...         1            1         52\n",
              "1  000051-01012017 2017-01-01     2017  ...         1            1         52\n",
              "2  000429-01012017 2017-01-01     2017  ...         1            1         52\n",
              "\n",
              "[3 rows x 34 columns]"
            ]
          },
          "metadata": {
            "tags": []
          },
          "execution_count": 49
        }
      ]
    },
    {
      "cell_type": "code",
      "metadata": {
        "colab": {
          "base_uri": "https://localhost:8080/"
        },
        "id": "P9KoFB4oTy7y",
        "outputId": "c0ab00ee-3a5d-4d3d-dc80-c2eeed27194c"
      },
      "source": [
        "myBag[\"last_filtered_df\"].columns"
      ],
      "execution_count": null,
      "outputs": [
        {
          "output_type": "execute_result",
          "data": {
            "text/plain": [
              "Index(['IncidentNumber', 'DateOfCall', 'CalYear', 'TimeOfCall', 'HourOfCall',\n",
              "       'IncidentGroup', 'StopCodeDescription', 'SpecialServiceType',\n",
              "       'PropertyCategory', 'PropertyType', 'AddressQualifier',\n",
              "       'IncGeo_BoroughCode', 'IncGeo_BoroughName', 'ProperCase',\n",
              "       'IncGeo_WardCode', 'IncGeo_WardName', 'IncGeo_WardNameNew',\n",
              "       'Easting_rounded', 'Northing_rounded', 'Latitude', 'Longitude',\n",
              "       'PumpHoursRoundUp', 'Longitude_new', 'Latitude_new', 'lng_diff',\n",
              "       'lat_diff', 'Month', 'MonthStr', 'DayOfWeek', 'DayOfWeekStr',\n",
              "       'DayOfMonth', 'DayOfYear', 'WeekOfMonth', 'WeekOfYear'],\n",
              "      dtype='object')"
            ]
          },
          "metadata": {
            "tags": []
          },
          "execution_count": 50
        }
      ]
    },
    {
      "cell_type": "code",
      "metadata": {
        "id": "-BYxB0mKUd_S"
      },
      "source": [
        "columns_to_drop2 = \"lat_diff,lng_diff,Latitude,Longitude,Easting_rounded,Northing_rounded\".split(\",\")\r\n",
        "myBag[\"last_filtered_df\"].drop(columns = columns_to_drop2, inplace = True)"
      ],
      "execution_count": null,
      "outputs": []
    },
    {
      "cell_type": "markdown",
      "metadata": {
        "id": "k4w-Fviupbxo"
      },
      "source": [
        "## Saving the dataframe"
      ]
    },
    {
      "cell_type": "code",
      "metadata": {
        "colab": {
          "base_uri": "https://localhost:8080/",
          "height": 49,
          "referenced_widgets": [
            "c994763d178545c88412599c67e1a74f",
            "94fdcd303e2c47449394fe41697895bb",
            "db5ca4e2ddf04b80b7db0811a93db65b"
          ]
        },
        "id": "R1X-keCApLvF",
        "outputId": "3af892e1-0781-4b1d-c5cf-6cbb15f9a2fe"
      },
      "source": [
        "text_input = widgets.Text(description = \"Enter the file name:\", value = \"temp.csv\", style = {\"description_width\": \"initial\"})\r\n",
        "text_input2 = widgets.Text(description = \"Enter the pickled file name:\", value = \"temp.pkl\", style = {\"description_width\": \"initial\"})\r\n",
        "\r\n",
        "text_input"
      ],
      "execution_count": null,
      "outputs": [
        {
          "output_type": "display_data",
          "data": {
            "application/vnd.jupyter.widget-view+json": {
              "model_id": "c994763d178545c88412599c67e1a74f",
              "version_minor": 0,
              "version_major": 2
            },
            "text/plain": [
              "Text(value='temp.csv', description='Enter the file name:', style=DescriptionStyle(description_width='initial')…"
            ]
          },
          "metadata": {
            "tags": []
          }
        }
      ]
    },
    {
      "cell_type": "code",
      "metadata": {
        "id": "64qZv3DgpqWo"
      },
      "source": [
        "myBag[\"last_filtered_df\"].to_csv(text_input.value)"
      ],
      "execution_count": null,
      "outputs": []
    },
    {
      "cell_type": "code",
      "metadata": {
        "colab": {
          "base_uri": "https://localhost:8080/",
          "height": 49,
          "referenced_widgets": [
            "f784fe5195f94429b365c06e234bb153",
            "fa334ecbbec7474085a202ad8d2a1771",
            "aac391b1ccee424da8bc3868bab9ad33"
          ]
        },
        "id": "E5EiPl-tEx6v",
        "outputId": "1977a003-fe4f-40be-affc-6a7ea6c63be2"
      },
      "source": [
        "text_input2"
      ],
      "execution_count": null,
      "outputs": [
        {
          "output_type": "display_data",
          "data": {
            "application/vnd.jupyter.widget-view+json": {
              "model_id": "f784fe5195f94429b365c06e234bb153",
              "version_minor": 0,
              "version_major": 2
            },
            "text/plain": [
              "Text(value='temp.pkl', description='Enter the pickled file name:', style=DescriptionStyle(description_width='i…"
            ]
          },
          "metadata": {
            "tags": []
          }
        }
      ]
    },
    {
      "cell_type": "code",
      "metadata": {
        "id": "GfkPfuOBEo8g"
      },
      "source": [
        "myBag[\"last_filtered_df\"].to_pickle(text_input2.value)"
      ],
      "execution_count": null,
      "outputs": []
    }
  ]
}